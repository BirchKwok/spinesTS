{
 "cells": [
  {
   "cell_type": "code",
   "execution_count": 1,
   "id": "eb28602f",
   "metadata": {
    "ExecuteTime": {
     "end_time": "2022-04-01T00:08:51.910981Z",
     "start_time": "2022-04-01T00:08:51.906371Z"
    }
   },
   "outputs": [],
   "source": [
    "# !pip install spinesTS\n",
    "import sys\n",
    "sys.path.append('..')"
   ]
  },
  {
   "cell_type": "markdown",
   "id": "e1c85104",
   "metadata": {},
   "source": [
    "# MLPTorchModel"
   ]
  },
  {
   "cell_type": "code",
   "execution_count": 2,
   "id": "9944ceaa",
   "metadata": {
    "ExecuteTime": {
     "end_time": "2022-04-01T00:08:52.992355Z",
     "start_time": "2022-04-01T00:08:51.912011Z"
    }
   },
   "outputs": [],
   "source": [
    "from spinesTS.preprocessing import split_series\n",
    "from sklearn.preprocessing import StandardScaler\n",
    "from spinesTS.plotting import plot2d\n",
    "from sklearn.metrics import r2_score"
   ]
  },
  {
   "cell_type": "code",
   "execution_count": 3,
   "id": "5a88d246",
   "metadata": {
    "ExecuteTime": {
     "end_time": "2022-04-01T00:08:52.995457Z",
     "start_time": "2022-04-01T00:08:52.993557Z"
    }
   },
   "outputs": [],
   "source": [
    "from spinesTS.pipeline import Pipeline"
   ]
  },
  {
   "cell_type": "code",
   "execution_count": 4,
   "id": "93e2d2b0",
   "metadata": {
    "ExecuteTime": {
     "end_time": "2022-04-01T00:08:53.041372Z",
     "start_time": "2022-04-01T00:08:52.996670Z"
    }
   },
   "outputs": [],
   "source": [
    "from spinesTS.data import BuiltInSeriesData\n",
    "from spinesTS.nn._recurrent_weighted_dense_net_test import RecurrentWeightedDenseNet\n",
    "from spinesTS.metrics import mean_absolute_error\n",
    "from spinesTS.metrics import mean_absolute_percentage_error"
   ]
  },
  {
   "cell_type": "code",
   "execution_count": 5,
   "id": "83d6f00c",
   "metadata": {
    "ExecuteTime": {
     "end_time": "2022-04-01T00:08:53.046555Z",
     "start_time": "2022-04-01T00:08:53.042540Z"
    }
   },
   "outputs": [
    {
     "name": "stdout",
     "output_type": "stream",
     "text": [
      "Existing CSV file list: \n",
      " \r",
      ">> >> >> >> >> >> >> >> >> >> >> >> \n",
      " \r",
      "    [ 0] Electric_Production\n",
      "\r",
      "    [ 1] Messages_Sent\n",
      "\r",
      "    [ 2] Messages_Sent_Hour\n",
      "\r",
      "    [ 3] Series_0\n",
      "\r",
      "    [ 4] Series_1\n",
      "\r",
      "    [ 5] Series_2\n",
      "\r",
      "    [ 6] Series_3\n",
      "\r",
      "    [ 7] Series_4\n",
      "\r",
      "    [ 8] Series_5\n",
      "\r",
      "    [ 9] Series_6\n",
      "\r",
      "    [10] Series_7\n",
      "\r",
      "    [11] Series_8\n",
      "\r",
      "    [12] Series_9\n",
      "\r",
      "    [13] Supermarket_Incoming\n",
      "\r",
      "    [14] Web_Sales\n",
      " \r",
      "<< << << << << << << << << << << << \n"
     ]
    }
   ],
   "source": [
    "series_data = BuiltInSeriesData()"
   ]
  },
  {
   "cell_type": "code",
   "execution_count": 6,
   "id": "b18be0d6",
   "metadata": {
    "ExecuteTime": {
     "end_time": "2022-04-01T00:08:53.792358Z",
     "start_time": "2022-04-01T00:08:53.047381Z"
    }
   },
   "outputs": [],
   "source": [
    "cs = series_data['Series_0']\n",
    "cs_data = cs.dataset['turnover_1']\n",
    "x_train, x_test, y_train, y_test = split_series(cs_data, cs_data, 420, 420, train_size=0.8)"
   ]
  },
  {
   "cell_type": "markdown",
   "id": "f0627056",
   "metadata": {},
   "source": [
    "## RecurrentWeightedDenseNet"
   ]
  },
  {
   "cell_type": "markdown",
   "id": "937c7b4f",
   "metadata": {},
   "source": [
    "### one res_dense_blocks"
   ]
  },
  {
   "cell_type": "code",
   "execution_count": null,
   "id": "ee207b31",
   "metadata": {
    "ExecuteTime": {
     "start_time": "2022-04-01T00:08:51.911Z"
    },
    "scrolled": false
   },
   "outputs": [
    {
     "name": "stdout",
     "output_type": "stream",
     "text": [
      "Epoch 1/1000 \n",
      "282/282 - p0 - loss: 260.8463 - mae: 121.8622 - val_loss: 194.2559 - val_mae: 194.7559 - 6.27s/epoch - 0.022s/step\n",
      "Epoch 2/1000 \n",
      "282/282 - p0 - loss: 234.3867 - mae: 101.9036 - val_loss: 168.0178 - val_mae: 168.5174 - 6.22s/epoch - 0.022s/step\n",
      "Epoch 3/1000 \n",
      "282/282 - p0 - loss: 211.4371 - mae: 88.3539 - val_loss: 146.3377 - val_mae: 146.8371 - 6.47s/epoch - 0.023s/step\n",
      "Epoch 4/1000 \n",
      "282/282 - p0 - loss: 192.3743 - mae: 79.8846 - val_loss: 129.3975 - val_mae: 129.8965 - 6.49s/epoch - 0.023s/step\n",
      "Epoch 5/1000 \n",
      "282/282 - p0 - loss: 176.3528 - mae: 73.8333 - val_loss: 115.9769 - val_mae: 116.4759 - 7.00s/epoch - 0.025s/step\n",
      "Epoch 6/1000 \n",
      "282/282 - p0 - loss: 162.6019 - mae: 68.5387 - val_loss: 105.2058 - val_mae: 105.7047 - 7.13s/epoch - 0.025s/step\n",
      "Epoch 7/1000 \n",
      "282/282 - p0 - loss: 151.2346 - mae: 64.1437 - val_loss: 96.8995 - val_mae: 97.3982 - 6.92s/epoch - 0.025s/step\n",
      "Epoch 8/1000 \n",
      "282/282 - p0 - loss: 142.5898 - mae: 60.7915 - val_loss: 91.1370 - val_mae: 91.6355 - 7.14s/epoch - 0.025s/step\n",
      "Epoch 9/1000 \n",
      "282/282 - p0 - loss: 135.0660 - mae: 57.4521 - val_loss: 86.5495 - val_mae: 87.0481 - 7.16s/epoch - 0.025s/step\n",
      "Epoch 10/1000 \n",
      "282/282 - p0 - loss: 128.7845 - mae: 54.2973 - val_loss: 82.9033 - val_mae: 83.4017 - 7.05s/epoch - 0.025s/step\n",
      "Epoch 11/1000 \n",
      "282/282 - p0 - loss: 123.2615 - mae: 51.1921 - val_loss: 80.0850 - val_mae: 80.5833 - 6.94s/epoch - 0.025s/step\n",
      "Epoch 12/1000 \n",
      "282/282 - p0 - loss: 119.0399 - mae: 49.5490 - val_loss: 77.8207 - val_mae: 78.3190 - 7.12s/epoch - 0.025s/step\n",
      "Epoch 13/1000 \n",
      "282/282 - p0 - loss: 115.0210 - mae: 47.9828 - val_loss: 76.3641 - val_mae: 76.8620 - 7.13s/epoch - 0.025s/step\n",
      "Epoch 14/1000 \n",
      "282/282 - p0 - loss: 112.7835 - mae: 47.4294 - val_loss: 75.2712 - val_mae: 75.7694 - 7.07s/epoch - 0.025s/step\n",
      "Epoch 15/1000 \n",
      "282/282 - p1 - loss: 109.7309 - mae: 46.6937 - val_loss: 75.9786 - val_mae: 76.4765 - 6.84s/epoch - 0.024s/step\n",
      "Epoch 16/1000 \n",
      "282/282 - p2 - loss: 106.6035 - mae: 45.8757 - val_loss: 75.9184 - val_mae: 76.4166 - 6.92s/epoch - 0.025s/step\n",
      "Epoch 17/1000 \n",
      "282/282 - p3 - loss: 104.2568 - mae: 44.8092 - val_loss: 76.6170 - val_mae: 77.1158 - 7.03s/epoch - 0.025s/step\n",
      "Epoch 18/1000 \n",
      "282/282 - p4 - loss: 101.6551 - mae: 44.2951 - val_loss: 77.7305 - val_mae: 78.2290 - 6.95s/epoch - 0.025s/step\n",
      "Epoch 19/1000 \n",
      "282/282 - p5 - loss: 99.6389 - mae: 43.9878 - val_loss: 78.3231 - val_mae: 78.8217 - 7.15s/epoch - 0.025s/step\n",
      "Epoch 20/1000 \n",
      "282/282 - p6 - loss: 98.2717 - mae: 43.3633 - val_loss: 78.0034 - val_mae: 78.5019 - 7.27s/epoch - 0.026s/step\n",
      "Epoch 21/1000 \n",
      "282/282 - p7 - loss: 96.7802 - mae: 42.6847 - val_loss: 78.7931 - val_mae: 79.2916 - 7.11s/epoch - 0.025s/step\n",
      "Epoch 22/1000 \n",
      "282/282 - p8 - loss: 95.0890 - mae: 42.2518 - val_loss: 79.9632 - val_mae: 80.4615 - 7.13s/epoch - 0.025s/step\n",
      "Epoch 23/1000 \n",
      "282/282 - p9 - loss: 94.1365 - mae: 41.7514 - val_loss: 80.5596 - val_mae: 81.0581 - 7.23s/epoch - 0.026s/step\n",
      "Epoch 24/1000 \n",
      "282/282 - p10 - loss: 93.6467 - mae: 41.4056 - val_loss: 81.7247 - val_mae: 82.2233 - 6.91s/epoch - 0.025s/step\n",
      "Epoch 25/1000 \n",
      "282/282 - p11 - loss: 92.4179 - mae: 40.9213 - val_loss: 82.7170 - val_mae: 83.2158 - 6.51s/epoch - 0.023s/step\n",
      "Epoch 26/1000 \n",
      "282/282 - p12 - loss: 91.2803 - mae: 40.5932 - val_loss: 83.2337 - val_mae: 83.7325 - 6.74s/epoch - 0.024s/step\n",
      "Epoch 27/1000 \n",
      "282/282 - p13 - loss: 90.7511 - mae: 40.2577 - val_loss: 82.7460 - val_mae: 83.2448 - 6.70s/epoch - 0.024s/step\n",
      "Epoch 28/1000 \n",
      "282/282 - p14 - loss: 89.8653 - mae: 40.0133 - val_loss: 81.6804 - val_mae: 82.1791 - 6.72s/epoch - 0.024s/step\n",
      "Epoch 29/1000 \n",
      "282/282 - p15 - loss: 89.6369 - mae: 39.6217 - val_loss: 81.4246 - val_mae: 81.9233 - 6.67s/epoch - 0.024s/step\n",
      "Epoch 30/1000 \n",
      "282/282 - p16 - loss: 88.5138 - mae: 39.5189 - val_loss: 82.6826 - val_mae: 83.1812 - 6.50s/epoch - 0.023s/step\n"
     ]
    }
   ],
   "source": [
    "rwd_net = RecurrentWeightedDenseNet(420, 420, random_seed=666, res_dense_blocks=1, learning_rate=0.0001)\n",
    "rwd_net.fit(x_train, y_train, eval_set=(x_test[:-2], y_test[:-2]), batch_size=32,\n",
    "             min_delta=0, patience=100, epochs=1000, verbose=True)\n",
    "y_pred_cs = rwd_net.predict(x_test[-2:])\n",
    "print(f\"r2: {r2_score(y_test[-2:].T, y_pred_cs.T)}\")\n",
    "print(f\"mae: {mean_absolute_error(y_test[-2:], y_pred_cs)}\")\n",
    "print(f\"mape: {mean_absolute_percentage_error(y_test[-2:], y_pred_cs)}\")\n",
    "a = plot2d(y_test[-2:], y_pred_cs, eval_slices='[-1]', labels=['y_test', 'y_pred'], figsize=(20, 6))"
   ]
  },
  {
   "cell_type": "markdown",
   "id": "fcb860a1",
   "metadata": {
    "ExecuteTime": {
     "end_time": "2022-03-30T13:32:31.947168Z",
     "start_time": "2022-03-30T13:32:31.931489Z"
    }
   },
   "source": [
    "r2: -0.34332292256345\n",
    "\n",
    "mae: 75.4992851075672\n",
    "\n",
    "mape: 0.5077112842527"
   ]
  },
  {
   "cell_type": "code",
   "execution_count": null,
   "id": "89ae8fbf",
   "metadata": {
    "ExecuteTime": {
     "start_time": "2022-04-01T00:08:51.912Z"
    }
   },
   "outputs": [],
   "source": [
    "# rwd_net.model.state_dict()"
   ]
  },
  {
   "cell_type": "code",
   "execution_count": null,
   "id": "99b9c9df",
   "metadata": {
    "ExecuteTime": {
     "start_time": "2022-04-01T00:08:51.913Z"
    }
   },
   "outputs": [],
   "source": [
    "rwd_net = RecurrentWeightedDenseNet(420, 420, random_seed=666, res_dense_blocks=6, learning_rate=0.0001)\n",
    "rwd_net.fit(x_train, y_train, eval_set=(x_test[:-2], y_test[:-2]), batch_size=32,\n",
    "             min_delta=0, patience=100, epochs=1000, verbose=True)\n",
    "y_pred_cs = rwd_net.predict(x_test[-2:])\n",
    "print(f\"r2: {r2_score(y_test[-2:].T, y_pred_cs.T)}\")\n",
    "print(f\"mae: {mean_absolute_error(y_test[-2:], y_pred_cs)}\")\n",
    "print(f\"mape: {mean_absolute_percentage_error(y_test[-2:], y_pred_cs)}\")\n",
    "a = plot2d(y_test[-2:], y_pred_cs, eval_slices='[-1]', labels=['y_test', 'y_pred'], figsize=(20, 6))"
   ]
  }
 ],
 "metadata": {
  "@webio": {
   "lastCommId": null,
   "lastKernelId": null
  },
  "kernelspec": {
   "display_name": "Python 3 (ipykernel)",
   "language": "python",
   "name": "python3"
  },
  "language_info": {
   "codemirror_mode": {
    "name": "ipython",
    "version": 3
   },
   "file_extension": ".py",
   "mimetype": "text/x-python",
   "name": "python",
   "nbconvert_exporter": "python",
   "pygments_lexer": "ipython3",
   "version": "3.9.7"
  },
  "toc": {
   "base_numbering": 1,
   "nav_menu": {},
   "number_sections": true,
   "sideBar": true,
   "skip_h1_title": false,
   "title_cell": "Table of Contents",
   "title_sidebar": "Contents",
   "toc_cell": false,
   "toc_position": {
    "height": "calc(100% - 180px)",
    "left": "10px",
    "top": "150px",
    "width": "384px"
   },
   "toc_section_display": true,
   "toc_window_display": true
  }
 },
 "nbformat": 4,
 "nbformat_minor": 5
}
