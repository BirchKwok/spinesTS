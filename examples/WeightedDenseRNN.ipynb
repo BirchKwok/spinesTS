{
 "cells": [
  {
   "cell_type": "code",
   "execution_count": 1,
   "id": "eb28602f",
   "metadata": {
    "ExecuteTime": {
     "end_time": "2022-04-01T23:48:30.787675Z",
     "start_time": "2022-04-01T23:48:30.776184Z"
    }
   },
   "outputs": [],
   "source": [
    "# !pip install spinesTS\n",
    "import sys\n",
    "sys.path.append('..')"
   ]
  },
  {
   "cell_type": "code",
   "execution_count": 2,
   "outputs": [
    {
     "data": {
      "text/plain": "torch.Size([32, 64])"
     },
     "execution_count": 2,
     "metadata": {},
     "output_type": "execute_result"
    }
   ],
   "source": [
    "import torch\n",
    "from spinesTS.layers import TrainableMovingAverage1d\n",
    "\n",
    "a = torch.randn((32, 64))\n",
    "TrainableMovingAverage1d(3)(a).shape"
   ],
   "metadata": {
    "collapsed": false,
    "pycharm": {
     "name": "#%%\n"
    }
   }
  },
  {
   "cell_type": "markdown",
   "id": "e1c85104",
   "metadata": {},
   "source": [
    "# MLPTorchModel"
   ]
  },
  {
   "cell_type": "code",
   "execution_count": 3,
   "id": "9944ceaa",
   "metadata": {
    "ExecuteTime": {
     "end_time": "2022-04-01T23:48:32.526170Z",
     "start_time": "2022-04-01T23:48:30.789074Z"
    }
   },
   "outputs": [],
   "source": [
    "from spinesTS.preprocessing import split_series\n",
    "from spinesTS.plotting import plot2d\n",
    "from sklearn.metrics import r2_score"
   ]
  },
  {
   "cell_type": "code",
   "execution_count": 4,
   "id": "93e2d2b0",
   "metadata": {
    "ExecuteTime": {
     "end_time": "2022-04-01T23:48:32.569976Z",
     "start_time": "2022-04-01T23:48:32.530772Z"
    }
   },
   "outputs": [],
   "source": [
    "from spinesTS.data import BuiltInSeriesData\n",
    "from spinesTS.nn import *\n",
    "from spinesTS.metrics import mean_absolute_error\n",
    "from spinesTS.metrics import mean_absolute_percentage_error"
   ]
  },
  {
   "cell_type": "code",
   "execution_count": 5,
   "id": "83d6f00c",
   "metadata": {
    "ExecuteTime": {
     "end_time": "2022-04-01T23:48:32.580751Z",
     "start_time": "2022-04-01T23:48:32.573388Z"
    }
   },
   "outputs": [
    {
     "name": "stdout",
     "output_type": "stream",
     "text": [
      "+----+----------------------+----------------------------------------------+\n",
      "|    | table's name         | table's columns                              |\n",
      "+----+----------------------+----------------------------------------------+\n",
      "|  0 | ETTh1                | date, HUFL, HULL, MUFL, MULL, LUFL, LULL, OT |\n",
      "|  1 | ETTh2                | date, HUFL, HULL, MUFL, MULL, LUFL, LULL, OT |\n",
      "|  2 | ETTm1                | date, HUFL, HULL, MUFL, MULL, LUFL, LULL, OT |\n",
      "|  3 | ETTm2                | date, HUFL, HULL, MUFL, MULL, LUFL, LULL, OT |\n",
      "|  4 | Electric_Production  | date, value                                  |\n",
      "|  5 | Messages_Sent        | date, ta, tb, tc                             |\n",
      "|  6 | Messages_Sent_Hour   | date, hour, ta, tb, tc                       |\n",
      "|  7 | Series_0             | date, timepoint, turnover_1, turnover_2      |\n",
      "|  8 | Series_1             | date, timepoint, turnover_1, turnover_2      |\n",
      "|  9 | Series_2             | date, timepoint, turnover_1, turnover_2      |\n",
      "| 10 | Series_3             | date, timepoint, turnover_1, turnover_2      |\n",
      "| 11 | Series_4             | date, timepoint, turnover_1, turnover_2      |\n",
      "| 12 | Series_5             | date, timepoint, turnover_1, turnover_2      |\n",
      "| 13 | Series_6             | date, timepoint, turnover_1, turnover_2      |\n",
      "| 14 | Series_7             | date, timepoint, turnover_1, turnover_2      |\n",
      "| 15 | Series_8             | date, timepoint, turnover_1, turnover_2      |\n",
      "| 16 | Series_9             | date, timepoint, turnover_1, turnover_2      |\n",
      "| 17 | Supermarket_Incoming | date, goods_cnt                              |\n",
      "| 18 | Web_Sales            | date, type_a, type_b, sales_cnt              |\n",
      "+----+----------------------+----------------------------------------------+\n"
     ]
    }
   ],
   "source": [
    "series_data = BuiltInSeriesData()"
   ]
  },
  {
   "cell_type": "code",
   "execution_count": 6,
   "outputs": [],
   "source": [
    "cs = series_data[0]\n",
    "cs_data = cs.dataset\n",
    "from sklearn.preprocessing import MinMaxScaler\n",
    "mms = MinMaxScaler()\n",
    "data = mms.fit_transform(cs_data.iloc[:, 1:].values)\n",
    "\n",
    "x_train, x_test, y_train, y_test = split_series(data, cs_data['OT'], 48, 24, train_size=0.9)"
   ],
   "metadata": {
    "collapsed": false,
    "pycharm": {
     "name": "#%%\n"
    }
   }
  },
  {
   "cell_type": "code",
   "execution_count": 7,
   "outputs": [
    {
     "data": {
      "text/plain": "((15614, 48, 7), (1735, 48, 7))"
     },
     "execution_count": 7,
     "metadata": {},
     "output_type": "execute_result"
    }
   ],
   "source": [
    "x_train.shape, x_test.shape"
   ],
   "metadata": {
    "collapsed": false,
    "pycharm": {
     "name": "#%%\n"
    }
   }
  },
  {
   "cell_type": "markdown",
   "id": "f0627056",
   "metadata": {},
   "source": [
    "## RecurrentWeightedDenseNet"
   ]
  },
  {
   "cell_type": "markdown",
   "id": "937c7b4f",
   "metadata": {},
   "source": [
    "### one res_dense_blocks"
   ]
  },
  {
   "cell_type": "code",
   "execution_count": null,
   "id": "ee207b31",
   "metadata": {
    "ExecuteTime": {
     "end_time": "2022-04-01T23:55:38.599589Z",
     "start_time": "2022-04-01T23:48:33.467518Z"
    },
    "scrolled": false,
    "pycharm": {
     "name": "#%%\n",
     "is_executing": true
    }
   },
   "outputs": [
    {
     "name": "stdout",
     "output_type": "stream",
     "text": [
      "Epoch 1/1000 \n",
      "488/488 - p0 - loss: 0.5716 - mae: 3.1363 - val_loss: 3.0004 - val_mae: 3.4908 - 6.22s/epoch - 0.013s/step\n",
      "Epoch 2/1000 \n",
      "488/488 - p0 - loss: 0.4052 - mae: 2.7591 - val_loss: 2.2391 - val_mae: 2.7192 - 6.19s/epoch - 0.013s/step\n",
      "Epoch 3/1000 \n",
      "488/488 - p0 - loss: 0.4644 - mae: 3.0047 - val_loss: 1.7462 - val_mae: 2.2134 - 6.26s/epoch - 0.013s/step\n",
      "Epoch 4/1000 \n",
      "488/488 - p1 - loss: 0.4547 - mae: 2.9547 - val_loss: 1.7666 - val_mae: 2.2348 - 6.25s/epoch - 0.013s/step\n",
      "Epoch 5/1000 \n",
      "488/488 - p2 - loss: 0.4597 - mae: 2.8754 - val_loss: 1.7688 - val_mae: 2.2378 - 6.78s/epoch - 0.014s/step\n",
      "Epoch 6/1000 \n",
      "488/488 - p0 - loss: 0.4918 - mae: 2.8924 - val_loss: 1.6813 - val_mae: 2.1470 - 6.70s/epoch - 0.014s/step\n",
      "Epoch 7/1000 \n",
      "488/488 - p0 - loss: 0.4391 - mae: 2.8171 - val_loss: 1.4863 - val_mae: 1.9424 - 6.04s/epoch - 0.012s/step\n",
      "Epoch 8/1000 \n",
      "488/488 - p1 - loss: 0.4802 - mae: 2.7504 - val_loss: 1.7513 - val_mae: 2.2208 - 6.06s/epoch - 0.012s/step\n",
      "Epoch 9/1000 \n",
      "488/488 - p2 - loss: 0.3329 - mae: 2.7282 - val_loss: 2.1567 - val_mae: 2.6409 - 6.03s/epoch - 0.012s/step\n",
      "Epoch 10/1000 \n",
      "488/488 - p0 - loss: 0.6140 - mae: 2.8750 - val_loss: 1.4649 - val_mae: 1.9180 - 6.08s/epoch - 0.012s/step\n",
      "Epoch 11/1000 \n",
      "488/488 - p1 - loss: 0.3956 - mae: 2.6878 - val_loss: 2.0709 - val_mae: 2.5526 - 5.87s/epoch - 0.012s/step\n",
      "Epoch 12/1000 \n",
      "488/488 - p2 - loss: 0.5466 - mae: 2.8639 - val_loss: 1.6291 - val_mae: 2.0936 - 5.97s/epoch - 0.012s/step\n",
      "Epoch 13/1000 \n",
      "488/488 - p3 - loss: 0.4899 - mae: 2.7095 - val_loss: 2.2900 - val_mae: 2.7759 - 5.34s/epoch - 0.011s/step\n",
      "Epoch 14/1000 \n",
      "488/488 - p4 - loss: 0.3468 - mae: 2.7055 - val_loss: 2.1273 - val_mae: 2.6099 - 5.50s/epoch - 0.011s/step\n",
      "Epoch 15/1000 \n",
      "488/488 - p5 - loss: 0.5108 - mae: 2.7095 - val_loss: 1.8532 - val_mae: 2.3280 - 5.46s/epoch - 0.011s/step\n",
      "Epoch 16/1000 \n",
      "488/488 - p6 - loss: 0.4185 - mae: 2.7472 - val_loss: 1.7023 - val_mae: 2.1729 - 5.51s/epoch - 0.011s/step\n",
      "Epoch 17/1000 \n",
      "488/488 - p7 - loss: 0.3071 - mae: 2.6620 - val_loss: 2.3181 - val_mae: 2.8047 - 5.63s/epoch - 0.012s/step\n",
      "Epoch 18/1000 \n",
      "488/488 - p8 - loss: 0.5261 - mae: 2.7301 - val_loss: 1.8512 - val_mae: 2.3257 - 5.45s/epoch - 0.011s/step\n",
      "Epoch 19/1000 \n",
      "488/488 - p9 - loss: 0.4440 - mae: 2.7482 - val_loss: 1.9329 - val_mae: 2.4102 - 5.48s/epoch - 0.011s/step\n",
      "Epoch 20/1000 \n",
      "488/488 - p10 - loss: 0.5987 - mae: 2.7248 - val_loss: 1.7644 - val_mae: 2.2351 - 5.40s/epoch - 0.011s/step\n"
     ]
    }
   ],
   "source": [
    "wdr = Time2VecNet((48, 7), 24, random_seed=42, flip_features=False, learning_rate=0.01)\n",
    "wdr.fit(x_train, y_train, eval_set=(x_test[:-2], y_test[:-2]), batch_size=32,\n",
    "             min_delta=0, patience=100, epochs=1000, verbose=True, lr_scheduler='ReduceLROnPlateau')\n",
    "y_pred_cs = wdr.predict(x_test[-2:])\n",
    "print(f\"r2: {r2_score(y_test[-2:].T, y_pred_cs.T)}\")\n",
    "print(f\"mae: {mean_absolute_error(y_test[-2:], y_pred_cs)}\")\n",
    "print(f\"mape: {mean_absolute_percentage_error(y_test[-2:], y_pred_cs)}\")\n",
    "a = plot2d(y_test[-2:], y_pred_cs, eval_slices='[-1]', labels=['y_test', 'y_pred'], figsize=(20, 6))"
   ]
  },
  {
   "cell_type": "code",
   "execution_count": 10,
   "outputs": [],
   "source": [
    "# GAU WITHOUT FLIP\n",
    "# r2: -2.461928251531084\n",
    "# mae: 0.7824241320292159\n",
    "# mape: 0.08264914036325263\n",
    "\n",
    "# FLIP\n",
    "# r2: -3.2216385445817077\n",
    "# mae: 0.8676682909329737\n",
    "# mape: 0.09149143596419052\n",
    "\n",
    "# GAU multi variable, without flip\n",
    "# r2: -0.3924809760700697\n",
    "# mae: 0.5082427859306335\n",
    "# mape: 0.052218739937045545\n",
    "\n",
    "# GAU multi variable, flip\n",
    "# r2: -0.15485139586619767\n",
    "# mae: 0.4762745102246601\n",
    "# mape: 0.0496499044584968\n",
    "\n",
    "\n",
    "# Time2Vec without flip\n",
    "# r2: -3.110017119085237\n",
    "# mae: 0.8972663482030238\n",
    "# mape: 0.09488035043723038\n",
    "\n",
    "# Time2Vec, flip\n",
    "# r2: -3.793590596311873\n",
    "# mae: 1.0186231931050622\n",
    "# mape: 0.10717737492764423\n",
    "\n",
    "# Time2Vec multi variable, without flip\n",
    "# r2: -0.33395022407345076\n",
    "# mae: 0.5126790603001914\n",
    "# mape: 0.05252923273324144\n",
    "\n",
    "# Time2Vec multi variable, flip\n",
    "# r2: -2.0952745732482994\n",
    "# mae: 0.7136228879292804\n",
    "# mape: 0.07433070742039964\n",
    "\n",
    "# WeightedDenseRNN\n",
    "# r2: -3.93017224579161\n",
    "# mae: 0.8334025740623479\n",
    "# mape: 0.08885424620348133\n",
    "\n",
    "# WeightedDenseRNN multi variable\n",
    "# r2: -0.6424794525661933\n",
    "# mae: 0.5684142311414083\n",
    "# mape: 0.05887982151593065"
   ],
   "metadata": {
    "collapsed": false,
    "pycharm": {
     "name": "#%%\n"
    }
   }
  },
  {
   "cell_type": "code",
   "execution_count": 10,
   "outputs": [],
   "source": [],
   "metadata": {
    "collapsed": false,
    "pycharm": {
     "name": "#%%\n"
    }
   }
  },
  {
   "cell_type": "code",
   "execution_count": 10,
   "outputs": [],
   "source": [],
   "metadata": {
    "collapsed": false,
    "pycharm": {
     "name": "#%%\n"
    }
   }
  },
  {
   "cell_type": "code",
   "execution_count": 10,
   "outputs": [],
   "source": [],
   "metadata": {
    "collapsed": false,
    "pycharm": {
     "name": "#%%\n"
    }
   }
  },
  {
   "cell_type": "code",
   "execution_count": 10,
   "outputs": [],
   "source": [],
   "metadata": {
    "collapsed": false,
    "pycharm": {
     "name": "#%%\n"
    }
   }
  },
  {
   "cell_type": "code",
   "execution_count": 10,
   "outputs": [],
   "source": [],
   "metadata": {
    "collapsed": false,
    "pycharm": {
     "name": "#%%\n"
    }
   }
  },
  {
   "cell_type": "code",
   "execution_count": 10,
   "outputs": [],
   "source": [],
   "metadata": {
    "collapsed": false,
    "pycharm": {
     "name": "#%%\n"
    }
   }
  },
  {
   "cell_type": "code",
   "execution_count": 10,
   "outputs": [],
   "source": [],
   "metadata": {
    "collapsed": false,
    "pycharm": {
     "name": "#%%\n"
    }
   }
  }
 ],
 "metadata": {
  "@webio": {
   "lastCommId": null,
   "lastKernelId": null
  },
  "kernelspec": {
   "display_name": "Python 3 (ipykernel)",
   "language": "python",
   "name": "python3"
  },
  "language_info": {
   "codemirror_mode": {
    "name": "ipython",
    "version": 3
   },
   "file_extension": ".py",
   "mimetype": "text/x-python",
   "name": "python",
   "nbconvert_exporter": "python",
   "pygments_lexer": "ipython3",
   "version": "3.9.7"
  },
  "toc": {
   "base_numbering": 1,
   "nav_menu": {},
   "number_sections": true,
   "sideBar": true,
   "skip_h1_title": false,
   "title_cell": "Table of Contents",
   "title_sidebar": "Contents",
   "toc_cell": false,
   "toc_position": {
    "height": "calc(100% - 180px)",
    "left": "10px",
    "top": "150px",
    "width": "384px"
   },
   "toc_section_display": true,
   "toc_window_display": true
  }
 },
 "nbformat": 4,
 "nbformat_minor": 5
}