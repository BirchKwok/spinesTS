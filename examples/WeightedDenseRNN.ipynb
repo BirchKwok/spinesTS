{
 "cells": [
  {
   "cell_type": "code",
   "execution_count": 1,
   "id": "eb28602f",
   "metadata": {
    "ExecuteTime": {
     "end_time": "2022-04-01T23:48:30.787675Z",
     "start_time": "2022-04-01T23:48:30.776184Z"
    }
   },
   "outputs": [],
   "source": [
    "# !pip install spinesTS\n",
    "import sys\n",
    "sys.path.append('..')"
   ]
  },
  {
   "cell_type": "markdown",
   "id": "e1c85104",
   "metadata": {},
   "source": [
    "# MLPTorchModel"
   ]
  },
  {
   "cell_type": "code",
   "execution_count": 2,
   "id": "9944ceaa",
   "metadata": {
    "ExecuteTime": {
     "end_time": "2022-04-01T23:48:32.526170Z",
     "start_time": "2022-04-01T23:48:30.789074Z"
    }
   },
   "outputs": [],
   "source": [
    "from spinesTS.preprocessing import split_series\n",
    "from spinesTS.plotting import plot2d\n",
    "from sklearn.metrics import r2_score"
   ]
  },
  {
   "cell_type": "code",
   "execution_count": 3,
   "id": "93e2d2b0",
   "metadata": {
    "ExecuteTime": {
     "end_time": "2022-04-01T23:48:32.569976Z",
     "start_time": "2022-04-01T23:48:32.530772Z"
    }
   },
   "outputs": [],
   "source": [
    "from spinesTS.data import BuiltInSeriesData\n",
    "from spinesTS.nn import WeightedDenseRNN\n",
    "from spinesTS.metrics import mean_absolute_error\n",
    "from spinesTS.metrics import mean_absolute_percentage_error"
   ]
  },
  {
   "cell_type": "code",
   "execution_count": 4,
   "id": "83d6f00c",
   "metadata": {
    "ExecuteTime": {
     "end_time": "2022-04-01T23:48:32.580751Z",
     "start_time": "2022-04-01T23:48:32.573388Z"
    }
   },
   "outputs": [
    {
     "name": "stdout",
     "output_type": "stream",
     "text": [
      "+----+----------------------+----------------------------------------------+\n",
      "|    | table's name         | table's columns                              |\n",
      "+----+----------------------+----------------------------------------------+\n",
      "|  0 | ETTh1                | date, HUFL, HULL, MUFL, MULL, LUFL, LULL, OT |\n",
      "|  1 | ETTh2                | date, HUFL, HULL, MUFL, MULL, LUFL, LULL, OT |\n",
      "|  2 | ETTm1                | date, HUFL, HULL, MUFL, MULL, LUFL, LULL, OT |\n",
      "|  3 | ETTm2                | date, HUFL, HULL, MUFL, MULL, LUFL, LULL, OT |\n",
      "|  4 | Electric_Production  | date, value                                  |\n",
      "|  5 | Messages_Sent        | date, ta, tb, tc                             |\n",
      "|  6 | Messages_Sent_Hour   | date, hour, ta, tb, tc                       |\n",
      "|  7 | Series_0             | date, timepoint, turnover_1, turnover_2      |\n",
      "|  8 | Series_1             | date, timepoint, turnover_1, turnover_2      |\n",
      "|  9 | Series_2             | date, timepoint, turnover_1, turnover_2      |\n",
      "| 10 | Series_3             | date, timepoint, turnover_1, turnover_2      |\n",
      "| 11 | Series_4             | date, timepoint, turnover_1, turnover_2      |\n",
      "| 12 | Series_5             | date, timepoint, turnover_1, turnover_2      |\n",
      "| 13 | Series_6             | date, timepoint, turnover_1, turnover_2      |\n",
      "| 14 | Series_7             | date, timepoint, turnover_1, turnover_2      |\n",
      "| 15 | Series_8             | date, timepoint, turnover_1, turnover_2      |\n",
      "| 16 | Series_9             | date, timepoint, turnover_1, turnover_2      |\n",
      "| 17 | Supermarket_Incoming | date, goods_cnt                              |\n",
      "| 18 | Web_Sales            | date, type_a, type_b, sales_cnt              |\n",
      "+----+----------------------+----------------------------------------------+\n"
     ]
    }
   ],
   "source": [
    "series_data = BuiltInSeriesData()"
   ]
  },
  {
   "cell_type": "code",
   "execution_count": 5,
   "id": "b18be0d6",
   "metadata": {
    "ExecuteTime": {
     "end_time": "2022-04-01T23:48:33.461151Z",
     "start_time": "2022-04-01T23:48:32.581662Z"
    }
   },
   "outputs": [],
   "source": [
    "cs = series_data[7]\n",
    "cs_data = cs.dataset['turnover_1']\n",
    "x_train, x_test, y_train, y_test = split_series(cs_data, cs_data, 420, 420, train_size=0.8)"
   ]
  },
  {
   "cell_type": "code",
   "execution_count": 6,
   "id": "7586a608",
   "metadata": {
    "ExecuteTime": {
     "end_time": "2022-04-01T23:48:33.466341Z",
     "start_time": "2022-04-01T23:48:33.462428Z"
    }
   },
   "outputs": [
    {
     "data": {
      "text/plain": "(9024, 420)"
     },
     "execution_count": 6,
     "metadata": {},
     "output_type": "execute_result"
    }
   ],
   "source": [
    "x_train.shape"
   ]
  },
  {
   "cell_type": "markdown",
   "id": "f0627056",
   "metadata": {},
   "source": [
    "## RecurrentWeightedDenseNet"
   ]
  },
  {
   "cell_type": "markdown",
   "id": "937c7b4f",
   "metadata": {},
   "source": [
    "### one res_dense_blocks"
   ]
  },
  {
   "cell_type": "code",
   "execution_count": null,
   "id": "ee207b31",
   "metadata": {
    "ExecuteTime": {
     "end_time": "2022-04-01T23:55:38.599589Z",
     "start_time": "2022-04-01T23:48:33.467518Z"
    },
    "scrolled": false,
    "pycharm": {
     "is_executing": true
    }
   },
   "outputs": [
    {
     "name": "stdout",
     "output_type": "stream",
     "text": [
      "Epoch 1/1000 \n",
      "282/282 - p0 - loss: 108.3099 - mae: 66.1462 - val_loss: 152.5630 - val_mae: 153.0623 - 4.21s/epoch - 0.015s/step\n",
      "Epoch 2/1000 \n",
      "282/282 - p0 - loss: 118.8967 - mae: 71.4511 - val_loss: 125.9600 - val_mae: 126.4591 - 4.17s/epoch - 0.015s/step\n",
      "Epoch 3/1000 \n",
      "282/282 - p1 - loss: 115.7626 - mae: 66.8875 - val_loss: 127.2064 - val_mae: 127.7055 - 4.12s/epoch - 0.015s/step\n",
      "Epoch 4/1000 \n",
      "282/282 - p0 - loss: 125.7535 - mae: 66.4561 - val_loss: 121.6051 - val_mae: 122.1042 - 4.17s/epoch - 0.015s/step\n",
      "Epoch 5/1000 \n",
      "282/282 - p1 - loss: 126.3057 - mae: 69.4351 - val_loss: 154.0681 - val_mae: 154.5673 - 4.13s/epoch - 0.015s/step\n",
      "Epoch 6/1000 \n",
      "282/282 - p2 - loss: 126.0392 - mae: 69.1278 - val_loss: 125.9375 - val_mae: 126.4366 - 4.14s/epoch - 0.015s/step\n",
      "Epoch 7/1000 \n",
      "282/282 - p3 - loss: 116.6165 - mae: 71.8381 - val_loss: 126.3084 - val_mae: 126.8074 - 4.11s/epoch - 0.015s/step\n",
      "Epoch 8/1000 \n",
      "282/282 - p0 - loss: 118.5271 - mae: 64.4537 - val_loss: 115.3333 - val_mae: 115.8323 - 4.06s/epoch - 0.014s/step\n",
      "Epoch 9/1000 \n",
      "282/282 - p1 - loss: 109.6752 - mae: 73.0355 - val_loss: 149.4931 - val_mae: 149.9923 - 4.15s/epoch - 0.015s/step\n",
      "Epoch 10/1000 \n",
      "282/282 - p2 - loss: 109.0209 - mae: 65.4208 - val_loss: 136.1135 - val_mae: 136.6126 - 4.12s/epoch - 0.015s/step\n",
      "Epoch 11/1000 \n",
      "282/282 - p3 - loss: 118.5839 - mae: 67.3822 - val_loss: 117.9091 - val_mae: 118.4082 - 4.15s/epoch - 0.015s/step\n",
      "Epoch 12/1000 \n",
      "282/282 - p4 -\n",
      " Changed learning rate to 0.006999999999999999 -\n",
      " loss: 111.9911 - mae: 64.2694 - val_loss: 131.3592 - val_mae: 131.8583 - 4.10s/epoch - 0.015s/step\n",
      "Epoch 13/1000 \n",
      "282/282 - p5 - loss: 108.5550 - mae: 59.5701 - val_loss: 119.7355 - val_mae: 120.2345 - 4.21s/epoch - 0.015s/step\n",
      "Epoch 14/1000 \n",
      "282/282 - p6 - loss: 105.7746 - mae: 63.4707 - val_loss: 126.4124 - val_mae: 126.9115 - 4.14s/epoch - 0.015s/step\n",
      "Epoch 15/1000 \n",
      "282/282 - p0 - loss: 112.0689 - mae: 63.5099 - val_loss: 107.1273 - val_mae: 107.6262 - 4.13s/epoch - 0.015s/step\n",
      "Epoch 16/1000 \n",
      "282/282 - p1 - loss: 102.0952 - mae: 57.5460 - val_loss: 114.0242 - val_mae: 114.5232 - 4.08s/epoch - 0.014s/step\n",
      "Epoch 17/1000 \n",
      "282/282 - p2 - loss: 121.7564 - mae: 62.2613 - val_loss: 113.0103 - val_mae: 113.5093 - 4.07s/epoch - 0.014s/step\n",
      "Epoch 18/1000 \n",
      "282/282 - p0 - loss: 109.5061 - mae: 63.6456 - val_loss: 103.5406 - val_mae: 104.0395 - 4.12s/epoch - 0.015s/step\n",
      "Epoch 19/1000 \n",
      "282/282 - p1 - loss: 108.3116 - mae: 60.2237 - val_loss: 110.6216 - val_mae: 111.1206 - 4.08s/epoch - 0.014s/step\n",
      "Epoch 20/1000 \n",
      "282/282 - p2 - loss: 118.1185 - mae: 55.1826 - val_loss: 105.5163 - val_mae: 106.0151 - 4.14s/epoch - 0.015s/step\n",
      "Epoch 21/1000 \n",
      "282/282 - p3 - loss: 101.7960 - mae: 55.5581 - val_loss: 105.5058 - val_mae: 106.0046 - 4.14s/epoch - 0.015s/step\n",
      "Epoch 22/1000 \n",
      "282/282 - p4 - loss: 190.1144 - mae: 61.8715 - val_loss: 145.8854 - val_mae: 146.3846 - 4.11s/epoch - 0.015s/step\n",
      "Epoch 23/1000 \n",
      "282/282 - p5 - loss: 121.9109 - mae: 59.9245 - val_loss: 120.4078 - val_mae: 120.9068 - 4.13s/epoch - 0.015s/step\n",
      "Epoch 24/1000 \n",
      "282/282 - p6 - loss: 173.5044 - mae: 63.2617 - val_loss: 150.1247 - val_mae: 150.6239 - 4.13s/epoch - 0.015s/step\n",
      "Epoch 25/1000 \n",
      "282/282 - p7 - loss: 222.2645 - mae: 62.2211 - val_loss: 157.4310 - val_mae: 157.9302 - 4.13s/epoch - 0.015s/step\n",
      "Epoch 26/1000 \n",
      "282/282 - p8 - loss: 123.4138 - mae: 59.1663 - val_loss: 124.8013 - val_mae: 125.3004 - 4.11s/epoch - 0.015s/step\n",
      "Epoch 27/1000 \n",
      "282/282 - p0 - loss: 109.8622 - mae: 60.9495 - val_loss: 100.0100 - val_mae: 100.5089 - 4.16s/epoch - 0.015s/step\n",
      "Epoch 28/1000 \n",
      "282/282 - p1 - loss: 136.1901 - mae: 60.4473 - val_loss: 133.7445 - val_mae: 134.2437 - 4.14s/epoch - 0.015s/step\n",
      "Epoch 29/1000 \n",
      "282/282 - p2 - loss: 117.4810 - mae: 57.6609 - val_loss: 122.3259 - val_mae: 122.8249 - 4.06s/epoch - 0.014s/step\n",
      "Epoch 30/1000 \n",
      "282/282 - p3 - loss: 183.8108 - mae: 63.9730 - val_loss: 167.6222 - val_mae: 168.1216 - 4.13s/epoch - 0.015s/step\n",
      "Epoch 31/1000 \n",
      "282/282 - p4 - loss: 109.2904 - mae: 59.8371 - val_loss: 103.4043 - val_mae: 103.9031 - 4.15s/epoch - 0.015s/step\n",
      "Epoch 32/1000 \n",
      "282/282 - p5 -\n",
      " Changed learning rate to 0.004899999999999999 -\n",
      " loss: 109.5539 - mae: 65.9621 - val_loss: 112.0946 - val_mae: 112.5936 - 4.12s/epoch - 0.015s/step\n",
      "Epoch 33/1000 \n",
      "282/282 - p0 - loss: 98.1427 - mae: 58.9399 - val_loss: 96.2802 - val_mae: 96.7789 - 4.12s/epoch - 0.015s/step\n",
      "Epoch 34/1000 \n",
      "282/282 - p0 - loss: 105.4627 - mae: 60.9081 - val_loss: 92.7146 - val_mae: 93.2133 - 4.12s/epoch - 0.015s/step\n",
      "Epoch 35/1000 \n",
      "282/282 - p0 - loss: 98.9395 - mae: 59.2389 - val_loss: 87.8975 - val_mae: 88.3961 - 4.18s/epoch - 0.015s/step\n",
      "Epoch 36/1000 \n",
      "282/282 - p1 - loss: 96.4747 - mae: 60.1060 - val_loss: 100.7956 - val_mae: 101.2944 - 4.15s/epoch - 0.015s/step\n",
      "Epoch 37/1000 \n",
      "282/282 - p2 - loss: 100.3630 - mae: 54.7181 - val_loss: 96.3916 - val_mae: 96.8903 - 4.12s/epoch - 0.015s/step\n",
      "Epoch 38/1000 \n",
      "282/282 - p0 - loss: 95.4567 - mae: 51.6004 - val_loss: 87.3195 - val_mae: 87.8180 - 4.16s/epoch - 0.015s/step\n",
      "Epoch 39/1000 \n",
      "282/282 - p1 - loss: 108.4743 - mae: 65.0568 - val_loss: 99.6848 - val_mae: 100.1835 - 4.40s/epoch - 0.016s/step\n",
      "Epoch 40/1000 \n",
      "282/282 - p2 - loss: 96.7233 - mae: 56.9748 - val_loss: 89.9971 - val_mae: 90.4958 - 4.50s/epoch - 0.016s/step\n",
      "Epoch 41/1000 \n",
      "282/282 - p3 - loss: 99.6051 - mae: 58.3769 - val_loss: 97.1532 - val_mae: 97.6519 - 4.25s/epoch - 0.015s/step\n",
      "Epoch 42/1000 \n",
      "282/282 - p4 - loss: 106.1815 - mae: 61.4900 - val_loss: 176.9780 - val_mae: 177.4773 - 4.19s/epoch - 0.015s/step\n",
      "Epoch 43/1000 \n",
      "282/282 - p5 - loss: 101.2200 - mae: 68.6605 - val_loss: 92.8389 - val_mae: 93.3375 - 4.18s/epoch - 0.015s/step\n",
      "Epoch 44/1000 \n",
      "282/282 - p6 - loss: 91.5134 - mae: 60.6806 - val_loss: 107.9615 - val_mae: 108.4605 - 4.21s/epoch - 0.015s/step\n",
      "Epoch 45/1000 \n",
      "282/282 - p7 - loss: 99.9590 - mae: 61.7669 - val_loss: 111.1663 - val_mae: 111.6652 - 4.23s/epoch - 0.015s/step\n",
      "Epoch 46/1000 \n",
      "282/282 - p8 - loss: 119.8996 - mae: 58.5110 - val_loss: 106.5642 - val_mae: 107.0631 - 4.46s/epoch - 0.016s/step\n",
      "Epoch 47/1000 \n",
      "282/282 - p9 - loss: 191.2158 - mae: 60.4853 - val_loss: 122.9129 - val_mae: 123.4118 - 4.35s/epoch - 0.015s/step\n",
      "Epoch 48/1000 \n",
      "282/282 - p10 - loss: 212.3918 - mae: 66.4015 - val_loss: 148.4221 - val_mae: 148.9212 - 4.20s/epoch - 0.015s/step\n",
      "Epoch 49/1000 \n",
      "282/282 - p11 - loss: 97.5225 - mae: 61.9496 - val_loss: 101.4086 - val_mae: 101.9075 - 4.22s/epoch - 0.015s/step\n",
      "Epoch 50/1000 \n",
      "282/282 - p12 - loss: 106.9393 - mae: 59.3716 - val_loss: 90.6241 - val_mae: 91.1227 - 4.21s/epoch - 0.015s/step\n",
      "Epoch 51/1000 \n",
      "282/282 - p13 - loss: 91.8092 - mae: 68.1094 - val_loss: 122.1926 - val_mae: 122.6917 - 4.19s/epoch - 0.015s/step\n",
      "Epoch 52/1000 \n",
      "282/282 - p14 - loss: 104.0377 - mae: 52.9279 - val_loss: 102.4738 - val_mae: 102.9727 - 4.22s/epoch - 0.015s/step\n",
      "Epoch 53/1000 \n",
      "282/282 - p15 - loss: 131.0143 - mae: 57.8742 - val_loss: 105.2910 - val_mae: 105.7898 - 4.54s/epoch - 0.016s/step\n",
      "Epoch 54/1000 \n",
      "282/282 - p16 - loss: 102.9760 - mae: 59.6334 - val_loss: 113.4046 - val_mae: 113.9036 - 4.31s/epoch - 0.015s/step\n",
      "Epoch 55/1000 \n",
      "282/282 - p17 -\n",
      " Changed learning rate to 0.003429999999999999 -\n",
      " loss: 175.1246 - mae: 79.9163 - val_loss: 160.4111 - val_mae: 160.9102 - 4.36s/epoch - 0.015s/step\n",
      "Epoch 56/1000 \n",
      "282/282 - p18 - loss: 91.9450 - mae: 70.4059 - val_loss: 131.8719 - val_mae: 132.3710 - 4.21s/epoch - 0.015s/step\n",
      "Epoch 57/1000 \n",
      "282/282 - p0 - loss: 103.5417 - mae: 56.2144 - val_loss: 86.0886 - val_mae: 86.5872 - 4.36s/epoch - 0.015s/step\n",
      "Epoch 58/1000 \n",
      "282/282 - p1 - loss: 173.9104 - mae: 53.4657 - val_loss: 113.5451 - val_mae: 114.0440 - 4.14s/epoch - 0.015s/step\n",
      "Epoch 59/1000 \n",
      "282/282 - p2 - loss: 100.1859 - mae: 49.9776 - val_loss: 92.2190 - val_mae: 92.7176 - 4.25s/epoch - 0.015s/step\n",
      "Epoch 60/1000 \n",
      "282/282 - p3 - loss: 112.0868 - mae: 58.3139 - val_loss: 89.5435 - val_mae: 90.0421 - 4.42s/epoch - 0.016s/step\n",
      "Epoch 61/1000 \n",
      "282/282 - p4 - loss: 94.3233 - mae: 48.9919 - val_loss: 88.0740 - val_mae: 88.5726 - 4.62s/epoch - 0.016s/step\n",
      "Epoch 62/1000 \n",
      "282/282 - p5 - loss: 91.4244 - mae: 51.0933 - val_loss: 88.1266 - val_mae: 88.6251 - 4.69s/epoch - 0.017s/step\n",
      "Epoch 63/1000 \n",
      "282/282 - p0 - loss: 95.5624 - mae: 54.6939 - val_loss: 84.4215 - val_mae: 84.9200 - 4.37s/epoch - 0.016s/step\n",
      "Epoch 64/1000 \n",
      "282/282 - p0 - loss: 91.8802 - mae: 56.2479 - val_loss: 82.4183 - val_mae: 82.9168 - 4.26s/epoch - 0.015s/step\n",
      "Epoch 65/1000 \n",
      "282/282 - p1 - loss: 208.3950 - mae: 74.3218 - val_loss: 132.7457 - val_mae: 133.2448 - 4.33s/epoch - 0.015s/step\n",
      "Epoch 66/1000 \n",
      "282/282 - p2 - loss: 92.2696 - mae: 48.8754 - val_loss: 94.6048 - val_mae: 95.1034 - 4.20s/epoch - 0.015s/step\n",
      "Epoch 67/1000 \n",
      "282/282 - p0 - loss: 85.7913 - mae: 55.2346 - val_loss: 81.0642 - val_mae: 81.5627 - 4.25s/epoch - 0.015s/step\n",
      "Epoch 68/1000 \n",
      "282/282 - p1 - loss: 123.1106 - mae: 49.9925 - val_loss: 108.1458 - val_mae: 108.6448 - 4.25s/epoch - 0.015s/step\n",
      "Epoch 69/1000 \n",
      "282/282 - p2 - loss: 93.4005 - mae: 48.9066 - val_loss: 97.9623 - val_mae: 98.4611 - 4.36s/epoch - 0.015s/step\n",
      "Epoch 70/1000 \n",
      "282/282 - p3 - loss: 86.1356 - mae: 57.4301 - val_loss: 82.5667 - val_mae: 83.0652 - 4.37s/epoch - 0.016s/step\n",
      "Epoch 71/1000 \n",
      "282/282 - p4 - loss: 104.6680 - mae: 58.0195 - val_loss: 93.8978 - val_mae: 94.3965 - 4.34s/epoch - 0.015s/step\n",
      "Epoch 72/1000 \n",
      "282/282 - p0 - loss: 89.1056 - mae: 53.5210 - val_loss: 79.7009 - val_mae: 80.1992 - 4.39s/epoch - 0.016s/step\n",
      "Epoch 73/1000 \n",
      "282/282 - p1 - loss: 111.3744 - mae: 55.7668 - val_loss: 92.2298 - val_mae: 92.7285 - 4.37s/epoch - 0.015s/step\n",
      "Epoch 74/1000 \n",
      "282/282 - p2 - loss: 111.8575 - mae: 53.1580 - val_loss: 83.3317 - val_mae: 83.8301 - 4.31s/epoch - 0.015s/step\n",
      "Epoch 75/1000 \n",
      "282/282 - p3 - loss: 95.7836 - mae: 53.4521 - val_loss: 87.6634 - val_mae: 88.1620 - 4.31s/epoch - 0.015s/step\n",
      "Epoch 76/1000 \n",
      "282/282 - p4 - loss: 88.7681 - mae: 54.3545 - val_loss: 84.2494 - val_mae: 84.7479 - 4.27s/epoch - 0.015s/step\n",
      "Epoch 77/1000 \n",
      "282/282 - p5 - loss: 99.5008 - mae: 54.1842 - val_loss: 88.8859 - val_mae: 89.3845 - 4.43s/epoch - 0.016s/step\n",
      "Epoch 78/1000 \n",
      "282/282 - p6 -\n",
      " Changed learning rate to 0.002400999999999999 -\n",
      " loss: 90.5852 - mae: 52.3070 - val_loss: 83.8407 - val_mae: 84.3392 - 4.45s/epoch - 0.016s/step\n",
      "Epoch 79/1000 \n",
      "282/282 - p7 - loss: 95.7126 - mae: 51.5167 - val_loss: 82.8853 - val_mae: 83.3838 - 4.42s/epoch - 0.016s/step\n",
      "Epoch 80/1000 \n",
      "282/282 - p8 - loss: 96.5600 - mae: 49.1349 - val_loss: 81.3481 - val_mae: 81.8466 - 4.57s/epoch - 0.016s/step\n",
      "Epoch 81/1000 \n",
      "282/282 - p9 - loss: 95.8627 - mae: 48.5488 - val_loss: 80.3519 - val_mae: 80.8502 - 4.34s/epoch - 0.015s/step\n",
      "Epoch 82/1000 \n",
      "282/282 - p0 - loss: 85.2492 - mae: 48.7208 - val_loss: 75.8686 - val_mae: 76.3668 - 4.32s/epoch - 0.015s/step\n",
      "Epoch 83/1000 \n",
      "282/282 - p1 - loss: 89.0966 - mae: 49.1991 - val_loss: 80.2232 - val_mae: 80.7216 - 4.14s/epoch - 0.015s/step\n",
      "Epoch 84/1000 \n",
      "282/282 - p2 - loss: 92.8403 - mae: 46.5778 - val_loss: 77.3206 - val_mae: 77.8189 - 4.58s/epoch - 0.016s/step\n",
      "Epoch 85/1000 \n",
      "282/282 - p3 - loss: 115.6802 - mae: 48.7089 - val_loss: 78.0792 - val_mae: 78.5775 - 4.27s/epoch - 0.015s/step\n"
     ]
    }
   ],
   "source": [
    "wdr = WeightedDenseRNN(420, 420, random_seed=42, level=1, learning_rate=0.01)\n",
    "wdr.fit(x_train, y_train, eval_set=(x_test[:-2], y_test[:-2]), batch_size=32,\n",
    "             min_delta=0, patience=100, epochs=1000, verbose=True, use_lr_scheduler=True)\n",
    "y_pred_cs = wdr.predict(x_test[-2:])\n",
    "print(f\"r2: {r2_score(y_test[-2:].T, y_pred_cs.T)}\")\n",
    "print(f\"mae: {mean_absolute_error(y_test[-2:], y_pred_cs)}\")\n",
    "print(f\"mape: {mean_absolute_percentage_error(y_test[-2:], y_pred_cs)}\")\n",
    "a = plot2d(y_test[-2:], y_pred_cs, eval_slices='[-1]', labels=['y_test', 'y_pred'], figsize=(20, 6))"
   ]
  },
  {
   "cell_type": "code",
   "execution_count": null,
   "outputs": [],
   "source": [
    "# r2: -1.6069860851397684\n",
    "# mae: 94.37355222247896\n",
    "# mape: 0.7744099343990346"
   ],
   "metadata": {
    "collapsed": false,
    "pycharm": {
     "name": "#%%\n",
     "is_executing": true
    }
   }
  },
  {
   "cell_type": "code",
   "id": "1c3b5c67",
   "metadata": {
    "ExecuteTime": {
     "end_time": "2022-03-30T13:32:31.947168Z",
     "start_time": "2022-03-30T13:32:31.931489Z"
    },
    "pycharm": {
     "name": "#%%\n",
     "is_executing": true
    }
   },
   "source": [
    "# r2: -0.2951417932046846\n",
    "# mae: 72.0731291384924\n",
    "# mape: 0.49534329867232824"
   ],
   "execution_count": null,
   "outputs": []
  },
  {
   "cell_type": "code",
   "execution_count": null,
   "id": "9928031c",
   "metadata": {
    "ExecuteTime": {
     "end_time": "2022-04-01T23:55:38.603523Z",
     "start_time": "2022-04-01T23:55:38.601565Z"
    },
    "pycharm": {
     "is_executing": true
    }
   },
   "outputs": [],
   "source": [
    "# wdr.model.state_dict()"
   ]
  },
  {
   "cell_type": "code",
   "execution_count": null,
   "id": "b2496fc2",
   "metadata": {
    "ExecuteTime": {
     "end_time": "2022-04-02T00:20:22.896660Z",
     "start_time": "2022-04-01T23:55:38.604923Z"
    },
    "scrolled": false,
    "pycharm": {
     "is_executing": true
    }
   },
   "outputs": [],
   "source": [
    "wdr = WeightedDenseRNN(128, 24, random_seed=666, level=6, learning_rate=0.01)\n",
    "wdr.fit(x_train, y_train, eval_set=(x_test[:-2], y_test[:-2]), batch_size=32,\n",
    "             min_delta=0, patience=100, epochs=1000, verbose=True)\n",
    "y_pred_cs = wdr.predict(x_test[-2:])\n",
    "print(f\"r2: {r2_score(y_test[-2:].T, y_pred_cs.T)}\")\n",
    "print(f\"mae: {mean_absolute_error(y_test[-2:], y_pred_cs)}\")\n",
    "print(f\"mape: {mean_absolute_percentage_error(y_test[-2:], y_pred_cs)}\")\n",
    "a = plot2d(y_test[-2:], y_pred_cs, eval_slices='[-1]', labels=['y_test', 'y_pred'], figsize=(20, 6))"
   ]
  },
  {
   "cell_type": "code",
   "id": "19e99dda",
   "metadata": {
    "pycharm": {
     "name": "#%%\n",
     "is_executing": true
    }
   },
   "source": [
    "# r2: -0.3864792376545837\n",
    "# mae: 79.12119703974042\n",
    "# mape: 0.5604488876406167"
   ],
   "execution_count": null,
   "outputs": []
  },
  {
   "cell_type": "code",
   "execution_count": null,
   "id": "9958b534",
   "metadata": {
    "pycharm": {
     "is_executing": true
    }
   },
   "outputs": [],
   "source": []
  }
 ],
 "metadata": {
  "@webio": {
   "lastCommId": null,
   "lastKernelId": null
  },
  "kernelspec": {
   "display_name": "Python 3 (ipykernel)",
   "language": "python",
   "name": "python3"
  },
  "language_info": {
   "codemirror_mode": {
    "name": "ipython",
    "version": 3
   },
   "file_extension": ".py",
   "mimetype": "text/x-python",
   "name": "python",
   "nbconvert_exporter": "python",
   "pygments_lexer": "ipython3",
   "version": "3.9.7"
  },
  "toc": {
   "base_numbering": 1,
   "nav_menu": {},
   "number_sections": true,
   "sideBar": true,
   "skip_h1_title": false,
   "title_cell": "Table of Contents",
   "title_sidebar": "Contents",
   "toc_cell": false,
   "toc_position": {
    "height": "calc(100% - 180px)",
    "left": "10px",
    "top": "150px",
    "width": "384px"
   },
   "toc_section_display": true,
   "toc_window_display": true
  }
 },
 "nbformat": 4,
 "nbformat_minor": 5
}