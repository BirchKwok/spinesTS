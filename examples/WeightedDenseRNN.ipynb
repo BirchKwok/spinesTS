{
 "cells": [
  {
   "cell_type": "code",
   "execution_count": 1,
   "id": "eb28602f",
   "metadata": {
    "ExecuteTime": {
     "end_time": "2022-04-01T23:48:30.787675Z",
     "start_time": "2022-04-01T23:48:30.776184Z"
    }
   },
   "outputs": [],
   "source": [
    "# !pip install spinesTS\n",
    "import sys\n",
    "sys.path.append('..')"
   ]
  },
  {
   "cell_type": "markdown",
   "id": "e1c85104",
   "metadata": {},
   "source": [
    "# MLPTorchModel"
   ]
  },
  {
   "cell_type": "code",
   "execution_count": 2,
   "id": "9944ceaa",
   "metadata": {
    "ExecuteTime": {
     "end_time": "2022-04-01T23:48:32.526170Z",
     "start_time": "2022-04-01T23:48:30.789074Z"
    }
   },
   "outputs": [],
   "source": [
    "from spinesTS.preprocessing import split_series\n",
    "from spinesTS.plotting import plot2d\n",
    "from sklearn.metrics import r2_score"
   ]
  },
  {
   "cell_type": "code",
   "execution_count": 3,
   "id": "93e2d2b0",
   "metadata": {
    "ExecuteTime": {
     "end_time": "2022-04-01T23:48:32.569976Z",
     "start_time": "2022-04-01T23:48:32.530772Z"
    }
   },
   "outputs": [],
   "source": [
    "from spinesTS.data import BuiltInSeriesData\n",
    "from spinesTS.nn import *\n",
    "from spinesTS.metrics import mean_absolute_error\n",
    "from spinesTS.metrics import mean_absolute_percentage_error"
   ]
  },
  {
   "cell_type": "code",
   "execution_count": 4,
   "id": "83d6f00c",
   "metadata": {
    "ExecuteTime": {
     "end_time": "2022-04-01T23:48:32.580751Z",
     "start_time": "2022-04-01T23:48:32.573388Z"
    }
   },
   "outputs": [
    {
     "name": "stdout",
     "output_type": "stream",
     "text": [
      "+----+----------------------+----------------------------------------------+\n",
      "|    | table's name         | table's columns                              |\n",
      "+----+----------------------+----------------------------------------------+\n",
      "|  0 | ETTh1                | date, HUFL, HULL, MUFL, MULL, LUFL, LULL, OT |\n",
      "|  1 | ETTh2                | date, HUFL, HULL, MUFL, MULL, LUFL, LULL, OT |\n",
      "|  2 | ETTm1                | date, HUFL, HULL, MUFL, MULL, LUFL, LULL, OT |\n",
      "|  3 | ETTm2                | date, HUFL, HULL, MUFL, MULL, LUFL, LULL, OT |\n",
      "|  4 | Electric_Production  | date, value                                  |\n",
      "|  5 | Messages_Sent        | date, ta, tb, tc                             |\n",
      "|  6 | Messages_Sent_Hour   | date, hour, ta, tb, tc                       |\n",
      "|  7 | Series_0             | date, timepoint, turnover_1, turnover_2      |\n",
      "|  8 | Series_1             | date, timepoint, turnover_1, turnover_2      |\n",
      "|  9 | Series_2             | date, timepoint, turnover_1, turnover_2      |\n",
      "| 10 | Series_3             | date, timepoint, turnover_1, turnover_2      |\n",
      "| 11 | Series_4             | date, timepoint, turnover_1, turnover_2      |\n",
      "| 12 | Series_5             | date, timepoint, turnover_1, turnover_2      |\n",
      "| 13 | Series_6             | date, timepoint, turnover_1, turnover_2      |\n",
      "| 14 | Series_7             | date, timepoint, turnover_1, turnover_2      |\n",
      "| 15 | Series_8             | date, timepoint, turnover_1, turnover_2      |\n",
      "| 16 | Series_9             | date, timepoint, turnover_1, turnover_2      |\n",
      "| 17 | Supermarket_Incoming | date, goods_cnt                              |\n",
      "| 18 | Web_Sales            | date, type_a, type_b, sales_cnt              |\n",
      "+----+----------------------+----------------------------------------------+\n"
     ]
    }
   ],
   "source": [
    "series_data = BuiltInSeriesData()"
   ]
  },
  {
   "cell_type": "code",
   "execution_count": 5,
   "id": "b18be0d6",
   "metadata": {
    "ExecuteTime": {
     "end_time": "2022-04-01T23:48:33.461151Z",
     "start_time": "2022-04-01T23:48:32.581662Z"
    }
   },
   "outputs": [],
   "source": [
    "cs = series_data[0]\n",
    "cs_data = cs.dataset['OT']\n",
    "x_train, x_test, y_train, y_test = split_series(cs_data, cs_data, 48, 24, train_size=0.9)"
   ]
  },
  {
   "cell_type": "code",
   "execution_count": 6,
   "id": "7586a608",
   "metadata": {
    "ExecuteTime": {
     "end_time": "2022-04-01T23:48:33.466341Z",
     "start_time": "2022-04-01T23:48:33.462428Z"
    }
   },
   "outputs": [
    {
     "data": {
      "text/plain": "((15614, 48), (1735, 48))"
     },
     "execution_count": 6,
     "metadata": {},
     "output_type": "execute_result"
    }
   ],
   "source": [
    "x_train.shape, x_test.shape"
   ]
  },
  {
   "cell_type": "markdown",
   "id": "f0627056",
   "metadata": {},
   "source": [
    "## RecurrentWeightedDenseNet"
   ]
  },
  {
   "cell_type": "markdown",
   "id": "937c7b4f",
   "metadata": {},
   "source": [
    "### one res_dense_blocks"
   ]
  },
  {
   "cell_type": "code",
   "execution_count": 7,
   "id": "ee207b31",
   "metadata": {
    "ExecuteTime": {
     "end_time": "2022-04-01T23:55:38.599589Z",
     "start_time": "2022-04-01T23:48:33.467518Z"
    },
    "scrolled": false
   },
   "outputs": [
    {
     "name": "stdout",
     "output_type": "stream",
     "text": [
      "Epoch 1/1000 \n",
      "488/488 - p0 - loss: 1.1042 - mae: 2.0962 - val_loss: 0.9746 - val_mae: 1.3843 - 20.67s/epoch - 0.042s/step\n",
      "Epoch 2/1000 \n",
      "488/488 - p0 - loss: 1.6224 - mae: 1.8681 - val_loss: 0.8383 - val_mae: 1.2491 - 20.56s/epoch - 0.042s/step\n",
      "Epoch 3/1000 \n",
      "488/488 - p1 - loss: 1.1830 - mae: 1.8408 - val_loss: 0.8442 - val_mae: 1.2459 - 20.39s/epoch - 0.042s/step\n",
      "Epoch 4/1000 \n",
      "488/488 - p2 - loss: 1.1532 - mae: 1.8323 - val_loss: 0.8499 - val_mae: 1.2587 - 20.58s/epoch - 0.042s/step\n",
      "Epoch 5/1000 \n",
      "488/488 - p0 - loss: 1.2197 - mae: 1.8311 - val_loss: 0.7945 - val_mae: 1.1912 - 20.19s/epoch - 0.041s/step\n",
      "Epoch 6/1000 \n",
      "488/488 - p1 - loss: 1.0989 - mae: 1.8289 - val_loss: 0.8360 - val_mae: 1.2360 - 20.34s/epoch - 0.042s/step\n",
      "Epoch 7/1000 \n",
      "488/488 - p2 - loss: 1.2089 - mae: 1.8184 - val_loss: 0.8114 - val_mae: 1.2045 - 20.38s/epoch - 0.042s/step\n",
      "Epoch 8/1000 \n",
      "488/488 - p3 - loss: 1.3071 - mae: 1.8092 - val_loss: 0.8105 - val_mae: 1.2157 - 20.25s/epoch - 0.042s/step\n",
      "Epoch 9/1000 \n",
      "488/488 - p4 - loss: 1.3857 - mae: 1.8102 - val_loss: 0.8231 - val_mae: 1.2218 - 20.34s/epoch - 0.042s/step\n",
      "Epoch 10/1000 \n",
      "488/488 - p5 - loss: 1.6738 - mae: 1.7974 - val_loss: 0.8145 - val_mae: 1.2144 - 20.38s/epoch - 0.042s/step\n",
      "Epoch 11/1000 \n",
      "488/488 - p6 - loss: 1.2976 - mae: 1.8033 - val_loss: 0.8218 - val_mae: 1.2216 - 20.41s/epoch - 0.042s/step\n",
      "Epoch 12/1000 \n",
      "488/488 - p7 - loss: 1.2615 - mae: 1.7980 - val_loss: 0.8574 - val_mae: 1.2573 - 20.40s/epoch - 0.042s/step\n",
      "Epoch 13/1000 \n",
      "488/488 - p8 - loss: 1.0113 - mae: 1.7948 - val_loss: 0.8445 - val_mae: 1.2485 - 20.22s/epoch - 0.041s/step\n",
      "Epoch 14/1000 \n",
      "488/488 - p9 - loss: 1.5845 - mae: 1.7858 - val_loss: 0.8059 - val_mae: 1.2052 - 20.08s/epoch - 0.041s/step\n",
      "Epoch 15/1000 \n",
      "488/488 - p10 - loss: 1.1816 - mae: 1.8069 - val_loss: 0.8689 - val_mae: 1.2759 - 20.10s/epoch - 0.041s/step\n",
      "Epoch 16/1000 \n",
      "488/488 - p11 - loss: 1.3815 - mae: 1.8017 - val_loss: 0.8092 - val_mae: 1.2069 - 20.26s/epoch - 0.042s/step\n",
      "Epoch 17/1000 \n",
      "488/488 - p12 - loss: 1.4882 - mae: 1.7715 - val_loss: 0.8323 - val_mae: 1.2302 - 20.14s/epoch - 0.041s/step\n",
      "Epoch 18/1000 \n",
      "488/488 - p13 - loss: 1.5281 - mae: 1.7955 - val_loss: 0.8113 - val_mae: 1.2111 - 20.09s/epoch - 0.041s/step\n",
      "Epoch 19/1000 \n",
      "488/488 - p14 - loss: 1.5320 - mae: 1.7964 - val_loss: 0.8601 - val_mae: 1.2637 - 19.98s/epoch - 0.041s/step\n",
      "Epoch 20/1000 \n",
      "488/488 - p15 - loss: 1.4612 - mae: 1.7819 - val_loss: 0.8922 - val_mae: 1.2950 - 20.25s/epoch - 0.041s/step\n",
      "Epoch 21/1000 \n",
      "488/488 - p16 - loss: 1.1443 - mae: 1.7889 - val_loss: 0.8142 - val_mae: 1.2149 - 20.24s/epoch - 0.041s/step\n",
      "Epoch 22/1000 \n",
      "488/488 - p17 - loss: 1.5189 - mae: 1.7838 - val_loss: 0.8750 - val_mae: 1.2810 - 20.34s/epoch - 0.042s/step\n",
      "Epoch 23/1000 \n",
      "488/488 - p18 - loss: 1.5425 - mae: 1.7874 - val_loss: 0.8806 - val_mae: 1.2825 - 20.35s/epoch - 0.042s/step\n",
      "Epoch 24/1000 \n",
      "488/488 - p19 - [*lr: 0.006999999999999999] -\n",
      " loss: 1.3446 - mae: 1.7653 - val_loss: 0.8286 - val_mae: 1.2281 - 20.34s/epoch - 0.042s/step\n",
      "Epoch 25/1000 \n",
      "488/488 - p20 - loss: 1.3634 - mae: 1.7090 - val_loss: 0.8242 - val_mae: 1.2239 - 20.34s/epoch - 0.042s/step\n",
      "Epoch 26/1000 \n",
      "488/488 - p0 - loss: 1.4350 - mae: 1.7116 - val_loss: 0.7896 - val_mae: 1.1846 - 20.37s/epoch - 0.042s/step\n",
      "Epoch 27/1000 \n",
      "488/488 - p1 - loss: 1.3597 - mae: 1.7139 - val_loss: 0.8444 - val_mae: 1.2441 - 20.54s/epoch - 0.042s/step\n",
      "Epoch 28/1000 \n",
      "488/488 - p2 - loss: 1.4847 - mae: 1.7060 - val_loss: 0.7997 - val_mae: 1.1994 - 20.32s/epoch - 0.042s/step\n",
      "Epoch 29/1000 \n",
      "488/488 - p3 - loss: 1.4517 - mae: 1.7140 - val_loss: 0.8708 - val_mae: 1.2680 - 20.38s/epoch - 0.042s/step\n",
      "Epoch 30/1000 \n",
      "488/488 - p4 - loss: 1.2657 - mae: 1.7158 - val_loss: 0.8136 - val_mae: 1.2133 - 20.49s/epoch - 0.042s/step\n",
      "Epoch 31/1000 \n",
      "488/488 - p5 - loss: 1.3857 - mae: 1.7221 - val_loss: 0.8095 - val_mae: 1.2052 - 20.27s/epoch - 0.042s/step\n",
      "Epoch 32/1000 \n",
      "488/488 - p6 - loss: 1.5231 - mae: 1.7077 - val_loss: 0.8360 - val_mae: 1.2359 - 20.17s/epoch - 0.041s/step\n",
      "Epoch 33/1000 \n",
      "488/488 - p7 - loss: 0.8114 - mae: 1.7040 - val_loss: 0.8099 - val_mae: 1.2048 - 20.26s/epoch - 0.042s/step\n",
      "Epoch 34/1000 \n",
      "488/488 - p8 - loss: 1.1648 - mae: 1.6931 - val_loss: 0.8046 - val_mae: 1.2031 - 20.39s/epoch - 0.042s/step\n",
      "Epoch 35/1000 \n",
      "488/488 - p9 - loss: 1.2907 - mae: 1.6914 - val_loss: 0.8464 - val_mae: 1.2495 - 20.40s/epoch - 0.042s/step\n",
      "Epoch 36/1000 \n",
      "488/488 - p10 - loss: 1.2774 - mae: 1.7090 - val_loss: 0.8138 - val_mae: 1.2115 - 20.06s/epoch - 0.041s/step\n",
      "Epoch 37/1000 \n",
      "488/488 - p11 - loss: 1.0772 - mae: 1.7000 - val_loss: 0.8629 - val_mae: 1.2649 - 19.99s/epoch - 0.041s/step\n",
      "Epoch 38/1000 \n",
      "488/488 - p12 - loss: 1.5057 - mae: 1.7089 - val_loss: 0.8199 - val_mae: 1.2184 - 20.07s/epoch - 0.041s/step\n",
      "Epoch 39/1000 \n",
      "488/488 - p13 - loss: 1.1985 - mae: 1.7259 - val_loss: 0.8155 - val_mae: 1.2116 - 20.08s/epoch - 0.041s/step\n",
      "Epoch 40/1000 \n",
      "488/488 - p14 - loss: 1.3971 - mae: 1.7138 - val_loss: 0.8260 - val_mae: 1.2241 - 20.01s/epoch - 0.041s/step\n",
      "Epoch 41/1000 \n",
      "488/488 - p15 - loss: 1.2381 - mae: 1.6903 - val_loss: 0.8150 - val_mae: 1.2140 - 20.07s/epoch - 0.041s/step\n",
      "Epoch 42/1000 \n",
      "488/488 - p16 - loss: 1.2537 - mae: 1.6915 - val_loss: 0.8063 - val_mae: 1.2043 - 20.05s/epoch - 0.041s/step\n",
      "Epoch 43/1000 \n",
      "488/488 - p17 - loss: 1.1589 - mae: 1.6899 - val_loss: 0.8102 - val_mae: 1.2082 - 19.93s/epoch - 0.041s/step\n",
      "Epoch 44/1000 \n",
      "488/488 - p18 - [*lr: 0.004899999999999999] -\n",
      " loss: 1.3825 - mae: 1.6860 - val_loss: 0.8328 - val_mae: 1.2321 - 20.18s/epoch - 0.041s/step\n",
      "Epoch 45/1000 \n",
      "488/488 - p19 - loss: 0.9791 - mae: 1.6388 - val_loss: 0.8118 - val_mae: 1.2084 - 20.16s/epoch - 0.041s/step\n",
      "Epoch 46/1000 \n",
      "488/488 - p20 - loss: 1.2676 - mae: 1.6432 - val_loss: 0.8446 - val_mae: 1.2430 - 20.23s/epoch - 0.041s/step\n",
      "Epoch 47/1000 \n",
      "488/488 - p21 - loss: 1.2096 - mae: 1.6411 - val_loss: 0.8343 - val_mae: 1.2333 - 20.20s/epoch - 0.041s/step\n",
      "Epoch 48/1000 \n",
      "488/488 - p22 - loss: 1.0747 - mae: 1.6444 - val_loss: 0.8367 - val_mae: 1.2349 - 20.19s/epoch - 0.041s/step\n",
      "Epoch 49/1000 \n",
      "488/488 - p23 - loss: 1.2843 - mae: 1.6461 - val_loss: 0.8211 - val_mae: 1.2174 - 20.29s/epoch - 0.042s/step\n",
      "Epoch 50/1000 \n",
      "488/488 - p24 - loss: 1.1364 - mae: 1.6321 - val_loss: 0.8320 - val_mae: 1.2353 - 20.28s/epoch - 0.042s/step\n",
      "Epoch 51/1000 \n",
      "488/488 - p25 - loss: 1.2361 - mae: 1.6372 - val_loss: 0.8177 - val_mae: 1.2140 - 20.12s/epoch - 0.041s/step\n",
      "Epoch 52/1000 \n",
      "488/488 - p26 - loss: 1.3522 - mae: 1.6373 - val_loss: 0.8412 - val_mae: 1.2388 - 20.17s/epoch - 0.041s/step\n",
      "Epoch 53/1000 \n",
      "488/488 - p27 - loss: 1.3173 - mae: 1.6331 - val_loss: 0.8128 - val_mae: 1.2121 - 20.21s/epoch - 0.041s/step\n",
      "Epoch 54/1000 \n",
      "488/488 - p28 - loss: 1.1969 - mae: 1.6289 - val_loss: 0.8405 - val_mae: 1.2458 - 20.22s/epoch - 0.041s/step\n",
      "Epoch 55/1000 \n",
      "488/488 - p29 - [*lr: 0.003429999999999999] -\n",
      " loss: 1.1929 - mae: 1.6566 - val_loss: 0.8190 - val_mae: 1.2148 - 20.07s/epoch - 0.041s/step\n",
      "Epoch 56/1000 \n",
      "488/488 - p30 - loss: 1.0281 - mae: 1.5926 - val_loss: 0.8096 - val_mae: 1.2047 - 20.30s/epoch - 0.042s/step\n",
      "Epoch 57/1000 \n",
      "488/488 - p31 - loss: 0.9718 - mae: 1.5934 - val_loss: 0.8088 - val_mae: 1.2054 - 20.21s/epoch - 0.041s/step\n",
      "Epoch 58/1000 \n",
      "488/488 - p32 - loss: 1.2355 - mae: 1.5943 - val_loss: 0.8059 - val_mae: 1.2003 - 20.26s/epoch - 0.042s/step\n",
      "Epoch 59/1000 \n",
      "488/488 - p33 - loss: 1.0973 - mae: 1.5929 - val_loss: 0.7984 - val_mae: 1.1930 - 20.15s/epoch - 0.041s/step\n",
      "Epoch 60/1000 \n",
      "488/488 - p34 - loss: 1.3332 - mae: 1.5895 - val_loss: 0.8521 - val_mae: 1.2523 - 20.33s/epoch - 0.042s/step\n",
      "Epoch 61/1000 \n",
      "488/488 - p35 - loss: 1.4368 - mae: 1.5909 - val_loss: 0.8598 - val_mae: 1.2577 - 20.32s/epoch - 0.042s/step\n",
      "Epoch 62/1000 \n",
      "488/488 - p36 - loss: 1.1058 - mae: 1.5865 - val_loss: 0.8311 - val_mae: 1.2288 - 20.31s/epoch - 0.042s/step\n",
      "Epoch 63/1000 \n",
      "488/488 - p37 - loss: 1.0923 - mae: 1.5799 - val_loss: 0.8020 - val_mae: 1.1976 - 20.23s/epoch - 0.041s/step\n",
      "Epoch 64/1000 \n",
      "488/488 - p38 - loss: 1.0645 - mae: 1.5871 - val_loss: 0.8265 - val_mae: 1.2255 - 20.21s/epoch - 0.041s/step\n",
      "Epoch 65/1000 \n",
      "488/488 - p39 - loss: 1.4836 - mae: 1.5811 - val_loss: 0.8287 - val_mae: 1.2257 - 20.20s/epoch - 0.041s/step\n",
      "Epoch 66/1000 \n",
      "488/488 - p40 - [*lr: 0.002400999999999999] -\n",
      " loss: 1.3218 - mae: 1.5920 - val_loss: 0.8442 - val_mae: 1.2459 - 20.42s/epoch - 0.042s/step\n",
      "Epoch 67/1000 \n",
      "488/488 - p41 - loss: 1.1748 - mae: 1.5511 - val_loss: 0.8302 - val_mae: 1.2298 - 20.35s/epoch - 0.042s/step\n",
      "Epoch 68/1000 \n",
      "488/488 - p42 - loss: 1.0684 - mae: 1.5538 - val_loss: 0.8343 - val_mae: 1.2320 - 20.41s/epoch - 0.042s/step\n",
      "Epoch 69/1000 \n",
      "488/488 - p43 - loss: 1.1823 - mae: 1.5422 - val_loss: 0.8277 - val_mae: 1.2242 - 20.50s/epoch - 0.042s/step\n",
      "Epoch 70/1000 \n",
      "488/488 - p44 - loss: 1.1429 - mae: 1.5443 - val_loss: 0.8197 - val_mae: 1.2163 - 20.39s/epoch - 0.042s/step\n",
      "Epoch 71/1000 \n",
      "488/488 - p45 - loss: 1.2201 - mae: 1.5442 - val_loss: 0.8047 - val_mae: 1.2017 - 20.35s/epoch - 0.042s/step\n",
      "Epoch 72/1000 \n",
      "488/488 - p46 - loss: 1.1276 - mae: 1.5442 - val_loss: 0.8332 - val_mae: 1.2302 - 20.31s/epoch - 0.042s/step\n",
      "Epoch 73/1000 \n",
      "488/488 - p47 - loss: 0.9124 - mae: 1.5424 - val_loss: 0.8269 - val_mae: 1.2224 - 20.26s/epoch - 0.042s/step\n",
      "Epoch 74/1000 \n",
      "488/488 - p48 - loss: 1.1292 - mae: 1.5389 - val_loss: 0.8115 - val_mae: 1.2079 - 20.27s/epoch - 0.042s/step\n",
      "Epoch 75/1000 \n",
      "488/488 - p49 - loss: 1.1517 - mae: 1.5387 - val_loss: 0.8246 - val_mae: 1.2228 - 20.28s/epoch - 0.042s/step\n",
      "Epoch 76/1000 \n",
      "488/488 - p50 - loss: 1.1724 - mae: 1.5375 - val_loss: 0.8190 - val_mae: 1.2141 - 20.12s/epoch - 0.041s/step\n",
      "Epoch 77/1000 \n",
      "488/488 - p51 - [*lr: 0.0016806999999999992] -\n",
      " loss: 1.1001 - mae: 1.5412 - val_loss: 0.8118 - val_mae: 1.2079 - 20.07s/epoch - 0.041s/step\n",
      "Epoch 78/1000 \n",
      "488/488 - p52 - loss: 1.1524 - mae: 1.5136 - val_loss: 0.8344 - val_mae: 1.2345 - 20.09s/epoch - 0.041s/step\n",
      "Epoch 79/1000 \n",
      "488/488 - p53 - loss: 1.1760 - mae: 1.5118 - val_loss: 0.8243 - val_mae: 1.2222 - 20.39s/epoch - 0.042s/step\n",
      "Epoch 80/1000 \n",
      "488/488 - p54 - loss: 1.0137 - mae: 1.5065 - val_loss: 0.8318 - val_mae: 1.2282 - 20.33s/epoch - 0.042s/step\n",
      "Epoch 81/1000 \n",
      "488/488 - p55 - loss: 1.1285 - mae: 1.5044 - val_loss: 0.8215 - val_mae: 1.2175 - 20.34s/epoch - 0.042s/step\n",
      "Epoch 82/1000 \n",
      "488/488 - p56 - loss: 1.2136 - mae: 1.5033 - val_loss: 0.8308 - val_mae: 1.2266 - 20.37s/epoch - 0.042s/step\n",
      "Epoch 83/1000 \n",
      "488/488 - p57 - loss: 1.2496 - mae: 1.5071 - val_loss: 0.8297 - val_mae: 1.2251 - 20.36s/epoch - 0.042s/step\n",
      "Epoch 84/1000 \n",
      "488/488 - p58 - loss: 1.0449 - mae: 1.4998 - val_loss: 0.8306 - val_mae: 1.2274 - 20.28s/epoch - 0.042s/step\n",
      "Epoch 85/1000 \n",
      "488/488 - p59 - loss: 1.0401 - mae: 1.5043 - val_loss: 0.8263 - val_mae: 1.2234 - 20.09s/epoch - 0.041s/step\n",
      "Epoch 86/1000 \n",
      "488/488 - p60 - loss: 1.0867 - mae: 1.5009 - val_loss: 0.8306 - val_mae: 1.2264 - 20.19s/epoch - 0.041s/step\n",
      "Epoch 87/1000 \n",
      "488/488 - p61 - loss: 0.8581 - mae: 1.5012 - val_loss: 0.8215 - val_mae: 1.2196 - 20.19s/epoch - 0.041s/step\n",
      "Epoch 88/1000 \n",
      "488/488 - p62 - [*lr: 0.0011764899999999994] -\n",
      " loss: 1.3695 - mae: 1.5022 - val_loss: 0.8313 - val_mae: 1.2280 - 20.07s/epoch - 0.041s/step\n",
      "Epoch 89/1000 \n",
      "488/488 - p63 - loss: 1.0697 - mae: 1.4818 - val_loss: 0.8303 - val_mae: 1.2270 - 20.30s/epoch - 0.042s/step\n",
      "Epoch 90/1000 \n",
      "488/488 - p64 - loss: 1.3886 - mae: 1.4775 - val_loss: 0.8312 - val_mae: 1.2286 - 20.30s/epoch - 0.042s/step\n",
      "Epoch 91/1000 \n",
      "488/488 - p65 - loss: 0.8713 - mae: 1.4767 - val_loss: 0.8469 - val_mae: 1.2443 - 20.27s/epoch - 0.042s/step\n",
      "Epoch 92/1000 \n",
      "488/488 - p66 - loss: 0.9921 - mae: 1.4742 - val_loss: 0.8432 - val_mae: 1.2412 - 20.36s/epoch - 0.042s/step\n",
      "Epoch 93/1000 \n",
      "488/488 - p67 - loss: 1.1154 - mae: 1.4773 - val_loss: 0.8337 - val_mae: 1.2313 - 20.31s/epoch - 0.042s/step\n",
      "Epoch 94/1000 \n",
      "488/488 - p68 - loss: 1.0646 - mae: 1.4714 - val_loss: 0.8418 - val_mae: 1.2402 - 20.39s/epoch - 0.042s/step\n",
      "Epoch 95/1000 \n",
      "488/488 - p69 - loss: 1.1101 - mae: 1.4725 - val_loss: 0.8364 - val_mae: 1.2345 - 20.24s/epoch - 0.041s/step\n",
      "Epoch 96/1000 \n",
      "488/488 - p70 - loss: 1.0525 - mae: 1.4727 - val_loss: 0.8345 - val_mae: 1.2324 - 20.11s/epoch - 0.041s/step\n",
      "Epoch 97/1000 \n",
      "488/488 - p71 - loss: 1.4004 - mae: 1.4682 - val_loss: 0.8328 - val_mae: 1.2302 - 20.92s/epoch - 0.043s/step\n",
      "Epoch 98/1000 \n",
      "488/488 - p72 - loss: 1.0801 - mae: 1.4692 - val_loss: 0.8378 - val_mae: 1.2349 - 20.43s/epoch - 0.042s/step\n",
      "Epoch 99/1000 \n",
      "488/488 - p73 - [*lr: 0.0008235429999999996] -\n",
      " loss: 0.9149 - mae: 1.4676 - val_loss: 0.8463 - val_mae: 1.2433 - 20.63s/epoch - 0.042s/step\n",
      "Epoch 100/1000 \n",
      "488/488 - p74 - loss: 1.0586 - mae: 1.4530 - val_loss: 0.8517 - val_mae: 1.2503 - 20.97s/epoch - 0.043s/step\n",
      "Epoch 101/1000 \n",
      "488/488 - p75 - loss: 0.7077 - mae: 1.4497 - val_loss: 0.8444 - val_mae: 1.2424 - 20.33s/epoch - 0.042s/step\n",
      "Epoch 102/1000 \n",
      "488/488 - p76 - loss: 1.0027 - mae: 1.4489 - val_loss: 0.8547 - val_mae: 1.2528 - 19.96s/epoch - 0.041s/step\n",
      "Epoch 103/1000 \n",
      "488/488 - p77 - loss: 0.8366 - mae: 1.4455 - val_loss: 0.8439 - val_mae: 1.2414 - 19.83s/epoch - 0.041s/step\n",
      "Epoch 104/1000 \n",
      "488/488 - p78 - loss: 0.8989 - mae: 1.4451 - val_loss: 0.8446 - val_mae: 1.2432 - 19.99s/epoch - 0.041s/step\n",
      "Epoch 105/1000 \n",
      "488/488 - p79 - loss: 0.8030 - mae: 1.4484 - val_loss: 0.8466 - val_mae: 1.2444 - 20.08s/epoch - 0.041s/step\n",
      "Epoch 106/1000 \n",
      "488/488 - p80 - loss: 0.8289 - mae: 1.4490 - val_loss: 0.8520 - val_mae: 1.2503 - 20.08s/epoch - 0.041s/step\n",
      "Epoch 107/1000 \n",
      "488/488 - p81 - loss: 1.0086 - mae: 1.4457 - val_loss: 0.8506 - val_mae: 1.2485 - 20.80s/epoch - 0.043s/step\n",
      "Epoch 108/1000 \n",
      "488/488 - p82 - loss: 0.9749 - mae: 1.4453 - val_loss: 0.8477 - val_mae: 1.2451 - 21.33s/epoch - 0.044s/step\n",
      "Epoch 109/1000 \n",
      "488/488 - p83 - loss: 1.0068 - mae: 1.4451 - val_loss: 0.8710 - val_mae: 1.2714 - 20.83s/epoch - 0.043s/step\n",
      "Epoch 110/1000 \n",
      "488/488 - p84 - loss: 1.0072 - mae: 1.4443 - val_loss: 0.8630 - val_mae: 1.2612 - 20.42s/epoch - 0.042s/step\n",
      "Epoch 111/1000 \n",
      "488/488 - p85 - loss: 1.1905 - mae: 1.4428 - val_loss: 0.8569 - val_mae: 1.2549 - 20.22s/epoch - 0.041s/step\n",
      "Epoch 112/1000 \n",
      "488/488 - p86 - [*lr: 0.0005764800999999997] -\n",
      " loss: 0.8584 - mae: 1.4416 - val_loss: 0.8476 - val_mae: 1.2462 - 20.10s/epoch - 0.041s/step\n",
      "Epoch 113/1000 \n",
      "488/488 - p87 - loss: 0.9995 - mae: 1.4275 - val_loss: 0.8509 - val_mae: 1.2489 - 20.08s/epoch - 0.041s/step\n",
      "Epoch 114/1000 \n",
      "488/488 - p88 - loss: 0.8906 - mae: 1.4269 - val_loss: 0.8521 - val_mae: 1.2490 - 20.26s/epoch - 0.042s/step\n",
      "Epoch 115/1000 \n",
      "488/488 - p89 - loss: 1.5186 - mae: 1.4246 - val_loss: 0.8504 - val_mae: 1.2480 - 20.17s/epoch - 0.041s/step\n",
      "Epoch 116/1000 \n",
      "488/488 - p90 - loss: 0.8320 - mae: 1.4240 - val_loss: 0.8534 - val_mae: 1.2510 - 21.10s/epoch - 0.043s/step\n",
      "Epoch 117/1000 \n",
      "488/488 - p91 - loss: 1.1905 - mae: 1.4245 - val_loss: 0.8507 - val_mae: 1.2486 - 20.36s/epoch - 0.042s/step\n",
      "Epoch 118/1000 \n",
      "488/488 - p92 - loss: 0.7722 - mae: 1.4228 - val_loss: 0.8496 - val_mae: 1.2471 - 20.59s/epoch - 0.042s/step\n",
      "Epoch 119/1000 \n",
      "488/488 - p93 - loss: 0.7928 - mae: 1.4238 - val_loss: 0.8574 - val_mae: 1.2551 - 20.12s/epoch - 0.041s/step\n",
      "Epoch 120/1000 \n",
      "488/488 - p94 - loss: 0.9092 - mae: 1.4253 - val_loss: 0.8489 - val_mae: 1.2479 - 19.90s/epoch - 0.041s/step\n",
      "Epoch 121/1000 \n",
      "488/488 - p95 - loss: 1.0096 - mae: 1.4245 - val_loss: 0.8551 - val_mae: 1.2532 - 19.98s/epoch - 0.041s/step\n",
      "Epoch 122/1000 \n",
      "488/488 - p96 - loss: 0.8046 - mae: 1.4220 - val_loss: 0.8508 - val_mae: 1.2481 - 19.78s/epoch - 0.041s/step\n",
      "Epoch 123/1000 \n",
      "488/488 - p97 - [*lr: 0.00040353606999999974] -\n",
      " loss: 1.2367 - mae: 1.4231 - val_loss: 0.8573 - val_mae: 1.2556 - 19.85s/epoch - 0.041s/step\n",
      "Epoch 124/1000 \n",
      "488/488 - p98 - loss: 0.6673 - mae: 1.4101 - val_loss: 0.8513 - val_mae: 1.2486 - 19.77s/epoch - 0.041s/step\n",
      "Epoch 125/1000 \n",
      "488/488 - p99 - loss: 0.9776 - mae: 1.4085 - val_loss: 0.8542 - val_mae: 1.2525 - 19.72s/epoch - 0.040s/step\n",
      "Epoch 126/1000 \n",
      "488/488 - p100 - loss: 1.2170 - mae: 1.4081 - val_loss: 0.8611 - val_mae: 1.2595 - 20.09s/epoch - 0.041s/step\n",
      "r2: -1.1629680216832134\n",
      "mae: 0.6317684849103297\n",
      "mape: 0.06673959430693592\n"
     ]
    },
    {
     "data": {
      "text/plain": "<Figure size 1440x432 with 1 Axes>",
      "image/png": "[encoded data removed]"
     },
     "metadata": {},
     "output_type": "display_data"
    }
   ],
   "source": [
    "wdr = WeightedDenseRNN(48, 24, random_seed=42, level=2, learning_rate=0.01)\n",
    "wdr.fit(x_train, y_train, eval_set=(x_test[:-2], y_test[:-2]), batch_size=32,\n",
    "             min_delta=0, patience=100, epochs=1000, verbose=True, lr_scheduler='ReduceLROnPlateau')\n",
    "y_pred_cs = wdr.predict(x_test[-2:])\n",
    "print(f\"r2: {r2_score(y_test[-2:].T, y_pred_cs.T)}\")\n",
    "print(f\"mae: {mean_absolute_error(y_test[-2:], y_pred_cs)}\")\n",
    "print(f\"mape: {mean_absolute_percentage_error(y_test[-2:], y_pred_cs)}\")\n",
    "a = plot2d(y_test[-2:], y_pred_cs, eval_slices='[-1]', labels=['y_test', 'y_pred'], figsize=(20, 6))"
   ]
  },
  {
   "cell_type": "code",
   "execution_count": 8,
   "outputs": [],
   "source": [
    "# r2: -1.6069860851397684\n",
    "# mae: 94.37355222247896\n",
    "# mape: 0.7744099343990346"
   ],
   "metadata": {
    "collapsed": false,
    "pycharm": {
     "name": "#%%\n"
    }
   }
  },
  {
   "cell_type": "code",
   "id": "1c3b5c67",
   "metadata": {
    "ExecuteTime": {
     "end_time": "2022-03-30T13:32:31.947168Z",
     "start_time": "2022-03-30T13:32:31.931489Z"
    },
    "pycharm": {
     "name": "#%%\n"
    }
   },
   "source": [
    "# r2: -0.2951417932046846\n",
    "# mae: 72.0731291384924\n",
    "# mape: 0.49534329867232824"
   ],
   "execution_count": 9,
   "outputs": []
  },
  {
   "cell_type": "code",
   "execution_count": 10,
   "id": "9928031c",
   "metadata": {
    "ExecuteTime": {
     "end_time": "2022-04-01T23:55:38.603523Z",
     "start_time": "2022-04-01T23:55:38.601565Z"
    }
   },
   "outputs": [],
   "source": [
    "# wdr.model.state_dict()"
   ]
  },
  {
   "cell_type": "code",
   "execution_count": 11,
   "id": "b2496fc2",
   "metadata": {
    "ExecuteTime": {
     "end_time": "2022-04-02T00:20:22.896660Z",
     "start_time": "2022-04-01T23:55:38.604923Z"
    },
    "scrolled": false
   },
   "outputs": [],
   "source": [
    "# wdr = GAUNet(48, 24, random_seed=42, flip_features=False, learning_rate=0.01)\n",
    "# wdr.fit(x_train, y_train, eval_set=(x_test[:-2], y_test[:-2]), batch_size=32,\n",
    "#              min_delta=0, patience=100, epochs=1000, verbose=True, lr_scheduler='ReduceLROnPlateau')\n",
    "# y_pred_cs = wdr.predict(x_test[-2:])\n",
    "# print(f\"r2: {r2_score(y_test[-2:].T, y_pred_cs.T)}\")\n",
    "# print(f\"mae: {mean_absolute_error(y_test[-2:], y_pred_cs)}\")\n",
    "# print(f\"mape: {mean_absolute_percentage_error(y_test[-2:], y_pred_cs)}\")\n",
    "# a = plot2d(y_test[-2:], y_pred_cs, eval_slices='[-1]', labels=['y_test', 'y_pred'], figsize=(20, 6))"
   ]
  },
  {
   "cell_type": "code",
   "id": "19e99dda",
   "metadata": {
    "pycharm": {
     "name": "#%%\n"
    }
   },
   "source": [
    "# r2: -0.3864792376545837\n",
    "# mae: 79.12119703974042\n",
    "# mape: 0.5604488876406167"
   ],
   "execution_count": 12,
   "outputs": []
  },
  {
   "cell_type": "code",
   "execution_count": 12,
   "id": "9958b534",
   "metadata": {},
   "outputs": [],
   "source": []
  }
 ],
 "metadata": {
  "@webio": {
   "lastCommId": null,
   "lastKernelId": null
  },
  "kernelspec": {
   "display_name": "Python 3 (ipykernel)",
   "language": "python",
   "name": "python3"
  },
  "language_info": {
   "codemirror_mode": {
    "name": "ipython",
    "version": 3
   },
   "file_extension": ".py",
   "mimetype": "text/x-python",
   "name": "python",
   "nbconvert_exporter": "python",
   "pygments_lexer": "ipython3",
   "version": "3.9.7"
  },
  "toc": {
   "base_numbering": 1,
   "nav_menu": {},
   "number_sections": true,
   "sideBar": true,
   "skip_h1_title": false,
   "title_cell": "Table of Contents",
   "title_sidebar": "Contents",
   "toc_cell": false,
   "toc_position": {
    "height": "calc(100% - 180px)",
    "left": "10px",
    "top": "150px",
    "width": "384px"
   },
   "toc_section_display": true,
   "toc_window_display": true
  }
 },
 "nbformat": 4,
 "nbformat_minor": 5
}