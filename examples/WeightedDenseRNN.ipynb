{
 "cells": [
  {
   "cell_type": "code",
   "execution_count": 1,
   "id": "eb28602f",
   "metadata": {
    "ExecuteTime": {
     "end_time": "2022-04-01T23:48:30.787675Z",
     "start_time": "2022-04-01T23:48:30.776184Z"
    }
   },
   "outputs": [],
   "source": [
    "# !pip install spinesTS\n",
    "import sys\n",
    "sys.path.append('..')"
   ]
  },
  {
   "cell_type": "code",
   "execution_count": 2,
   "outputs": [
    {
     "data": {
      "text/plain": "torch.Size([32, 64])"
     },
     "execution_count": 2,
     "metadata": {},
     "output_type": "execute_result"
    }
   ],
   "source": [
    "import torch\n",
    "from spinesTS.layers import TrainableMovingAverage1d\n",
    "\n",
    "a = torch.randn((32, 64))\n",
    "TrainableMovingAverage1d(3)(a).shape"
   ],
   "metadata": {
    "collapsed": false,
    "pycharm": {
     "name": "#%%\n"
    }
   }
  },
  {
   "cell_type": "markdown",
   "id": "e1c85104",
   "metadata": {},
   "source": [
    "# MLPTorchModel"
   ]
  },
  {
   "cell_type": "code",
   "execution_count": 3,
   "id": "9944ceaa",
   "metadata": {
    "ExecuteTime": {
     "end_time": "2022-04-01T23:48:32.526170Z",
     "start_time": "2022-04-01T23:48:30.789074Z"
    }
   },
   "outputs": [],
   "source": [
    "from spinesTS.preprocessing import split_series\n",
    "from spinesTS.plotting import plot2d\n",
    "from sklearn.metrics import r2_score"
   ]
  },
  {
   "cell_type": "code",
   "execution_count": 4,
   "id": "93e2d2b0",
   "metadata": {
    "ExecuteTime": {
     "end_time": "2022-04-01T23:48:32.569976Z",
     "start_time": "2022-04-01T23:48:32.530772Z"
    }
   },
   "outputs": [],
   "source": [
    "from spinesTS.data import BuiltInSeriesData\n",
    "from spinesTS.nn import *\n",
    "from spinesTS.metrics import mean_absolute_error\n",
    "from spinesTS.metrics import mean_absolute_percentage_error"
   ]
  },
  {
   "cell_type": "code",
   "execution_count": 5,
   "id": "83d6f00c",
   "metadata": {
    "ExecuteTime": {
     "end_time": "2022-04-01T23:48:32.580751Z",
     "start_time": "2022-04-01T23:48:32.573388Z"
    }
   },
   "outputs": [
    {
     "name": "stdout",
     "output_type": "stream",
     "text": [
      "+----+----------------------+----------------------------------------------+\n",
      "|    | table's name         | table's columns                              |\n",
      "+----+----------------------+----------------------------------------------+\n",
      "|  0 | ETTh1                | date, HUFL, HULL, MUFL, MULL, LUFL, LULL, OT |\n",
      "|  1 | ETTh2                | date, HUFL, HULL, MUFL, MULL, LUFL, LULL, OT |\n",
      "|  2 | ETTm1                | date, HUFL, HULL, MUFL, MULL, LUFL, LULL, OT |\n",
      "|  3 | ETTm2                | date, HUFL, HULL, MUFL, MULL, LUFL, LULL, OT |\n",
      "|  4 | Electric_Production  | date, value                                  |\n",
      "|  5 | Messages_Sent        | date, ta, tb, tc                             |\n",
      "|  6 | Messages_Sent_Hour   | date, hour, ta, tb, tc                       |\n",
      "|  7 | Series_0             | date, timepoint, turnover_1, turnover_2      |\n",
      "|  8 | Series_1             | date, timepoint, turnover_1, turnover_2      |\n",
      "|  9 | Series_2             | date, timepoint, turnover_1, turnover_2      |\n",
      "| 10 | Series_3             | date, timepoint, turnover_1, turnover_2      |\n",
      "| 11 | Series_4             | date, timepoint, turnover_1, turnover_2      |\n",
      "| 12 | Series_5             | date, timepoint, turnover_1, turnover_2      |\n",
      "| 13 | Series_6             | date, timepoint, turnover_1, turnover_2      |\n",
      "| 14 | Series_7             | date, timepoint, turnover_1, turnover_2      |\n",
      "| 15 | Series_8             | date, timepoint, turnover_1, turnover_2      |\n",
      "| 16 | Series_9             | date, timepoint, turnover_1, turnover_2      |\n",
      "| 17 | Supermarket_Incoming | date, goods_cnt                              |\n",
      "| 18 | Web_Sales            | date, type_a, type_b, sales_cnt              |\n",
      "+----+----------------------+----------------------------------------------+\n"
     ]
    }
   ],
   "source": [
    "series_data = BuiltInSeriesData()"
   ]
  },
  {
   "cell_type": "code",
   "execution_count": 6,
   "outputs": [],
   "source": [
    "cs = series_data[0]\n",
    "cs_data = cs.dataset\n",
    "from sklearn.preprocessing import MinMaxScaler\n",
    "mms = MinMaxScaler()\n",
    "data = mms.fit_transform(cs_data.iloc[:, 1:].values)\n",
    "\n",
    "x_train, x_test, y_train, y_test = split_series(data, cs_data['OT'], 48, 24, train_size=0.9)"
   ],
   "metadata": {
    "collapsed": false,
    "pycharm": {
     "name": "#%%\n"
    }
   }
  },
  {
   "cell_type": "code",
   "execution_count": 7,
   "outputs": [
    {
     "data": {
      "text/plain": "((15614, 48, 7), (1735, 48, 7))"
     },
     "execution_count": 7,
     "metadata": {},
     "output_type": "execute_result"
    }
   ],
   "source": [
    "x_train.shape, x_test.shape"
   ],
   "metadata": {
    "collapsed": false,
    "pycharm": {
     "name": "#%%\n"
    }
   }
  },
  {
   "cell_type": "markdown",
   "id": "f0627056",
   "metadata": {},
   "source": [
    "## RecurrentWeightedDenseNet"
   ]
  },
  {
   "cell_type": "markdown",
   "id": "937c7b4f",
   "metadata": {},
   "source": [
    "### one res_dense_blocks"
   ]
  },
  {
   "cell_type": "code",
   "execution_count": null,
   "id": "ee207b31",
   "metadata": {
    "ExecuteTime": {
     "end_time": "2022-04-01T23:55:38.599589Z",
     "start_time": "2022-04-01T23:48:33.467518Z"
    },
    "scrolled": false,
    "pycharm": {
     "name": "#%%\n",
     "is_executing": true
    }
   },
   "outputs": [
    {
     "name": "stdout",
     "output_type": "stream",
     "text": [
      "Epoch 1/1000 \n",
      "488/488 - p0 - loss: 1.8128 - mae: 3.3115 - val_loss: 3.5680 - val_mae: 4.0610 - 11.50s/epoch - 0.024s/step\n",
      "Epoch 2/1000 \n",
      "488/488 - p0 - loss: 0.4173 - mae: 2.7338 - val_loss: 2.3601 - val_mae: 2.8432 - 11.58s/epoch - 0.024s/step\n",
      "Epoch 3/1000 \n",
      "488/488 - p0 - loss: 0.3998 - mae: 2.8062 - val_loss: 2.2674 - val_mae: 2.7479 - 11.71s/epoch - 0.024s/step\n",
      "Epoch 4/1000 \n",
      "488/488 - p0 - loss: 0.4004 - mae: 3.0527 - val_loss: 1.8639 - val_mae: 2.3330 - 11.88s/epoch - 0.024s/step\n",
      "Epoch 5/1000 \n",
      "488/488 - p0 - loss: 0.3490 - mae: 3.1131 - val_loss: 1.8021 - val_mae: 2.2711 - 11.35s/epoch - 0.023s/step\n",
      "Epoch 6/1000 \n",
      "488/488 - p0 - loss: 0.3565 - mae: 2.9617 - val_loss: 1.6815 - val_mae: 2.1424 - 11.21s/epoch - 0.023s/step\n",
      "Epoch 7/1000 \n",
      "488/488 - p1 - loss: 0.5546 - mae: 2.9550 - val_loss: 2.1069 - val_mae: 2.5852 - 11.25s/epoch - 0.023s/step\n",
      "Epoch 8/1000 \n",
      "488/488 - p0 - loss: 0.4644 - mae: 3.0892 - val_loss: 1.4333 - val_mae: 1.8701 - 11.45s/epoch - 0.023s/step\n"
     ]
    }
   ],
   "source": [
    "wdr = Time2VecNet((48, 7), 24, random_seed=42, flip_features=True, learning_rate=0.01)\n",
    "wdr.fit(x_train, y_train, eval_set=(x_test[:-2], y_test[:-2]), batch_size=32,\n",
    "             min_delta=0, patience=100, epochs=1000, verbose=True, lr_scheduler='ReduceLROnPlateau')\n",
    "y_pred_cs = wdr.predict(x_test[-2:])\n",
    "print(f\"r2: {r2_score(y_test[-2:].T, y_pred_cs.T)}\")\n",
    "print(f\"mae: {mean_absolute_error(y_test[-2:], y_pred_cs)}\")\n",
    "print(f\"mape: {mean_absolute_percentage_error(y_test[-2:], y_pred_cs)}\")\n",
    "a = plot2d(y_test[-2:], y_pred_cs, eval_slices='[-1]', labels=['y_test', 'y_pred'], figsize=(20, 6))"
   ]
  },
  {
   "cell_type": "code",
   "execution_count": null,
   "outputs": [],
   "source": [
    "# GAU WITHOUT FLIP\n",
    "# r2: -2.461928251531084\n",
    "# mae: 0.7824241320292159\n",
    "# mape: 0.08264914036325263\n",
    "\n",
    "# FLIP\n",
    "# r2: -3.2216385445817077\n",
    "# mae: 0.8676682909329737\n",
    "# mape: 0.09149143596419052\n",
    "\n",
    "# GAU multi variable, without flip\n",
    "# r2: -0.3924809760700697\n",
    "# mae: 0.5082427859306335\n",
    "# mape: 0.052218739937045545\n",
    "\n",
    "# GAU multi variable, flip\n",
    "# r2: -0.15485139586619767\n",
    "# mae: 0.4762745102246601\n",
    "# mape: 0.0496499044584968\n",
    "\n",
    "\n",
    "# Time2Vec without flip\n",
    "# r2: -3.110017119085237\n",
    "# mae: 0.8972663482030238\n",
    "# mape: 0.09488035043723038\n",
    "\n",
    "# Time2Vec, flip\n",
    "# r2: -3.793590596311873\n",
    "# mae: 1.0186231931050622\n",
    "# mape: 0.10717737492764423\n",
    "\n",
    "# Time2Vec multi variable, without flip\n",
    "# r2: -0.33395022407345076\n",
    "# mae: 0.5126790603001914\n",
    "# mape: 0.05252923273324144\n",
    "\n",
    "# Time2Vec multi variable, flip\n",
    "# r2: -7.044184774461682\n",
    "# mae: 1.3122935493787125\n",
    "# mape: 0.13216251971971402\n",
    "\n",
    "# WeightedDenseRNN\n",
    "# r2: -3.93017224579161\n",
    "# mae: 0.8334025740623479\n",
    "# mape: 0.08885424620348133\n",
    "\n",
    "# WeightedDenseRNN multi variable\n",
    "# r2: -0.6424794525661933\n",
    "# mae: 0.5684142311414083\n",
    "# mape: 0.05887982151593065"
   ],
   "metadata": {
    "collapsed": false,
    "pycharm": {
     "name": "#%%\n",
     "is_executing": true
    }
   }
  },
  {
   "cell_type": "code",
   "execution_count": null,
   "outputs": [],
   "source": [],
   "metadata": {
    "collapsed": false,
    "pycharm": {
     "name": "#%%\n",
     "is_executing": true
    }
   }
  },
  {
   "cell_type": "code",
   "execution_count": null,
   "outputs": [],
   "source": [],
   "metadata": {
    "collapsed": false,
    "pycharm": {
     "name": "#%%\n",
     "is_executing": true
    }
   }
  },
  {
   "cell_type": "code",
   "execution_count": null,
   "outputs": [],
   "source": [],
   "metadata": {
    "collapsed": false,
    "pycharm": {
     "name": "#%%\n",
     "is_executing": true
    }
   }
  },
  {
   "cell_type": "code",
   "execution_count": null,
   "outputs": [],
   "source": [],
   "metadata": {
    "collapsed": false,
    "pycharm": {
     "name": "#%%\n",
     "is_executing": true
    }
   }
  },
  {
   "cell_type": "code",
   "execution_count": null,
   "outputs": [],
   "source": [],
   "metadata": {
    "collapsed": false,
    "pycharm": {
     "name": "#%%\n",
     "is_executing": true
    }
   }
  },
  {
   "cell_type": "code",
   "execution_count": null,
   "outputs": [],
   "source": [],
   "metadata": {
    "collapsed": false,
    "pycharm": {
     "name": "#%%\n",
     "is_executing": true
    }
   }
  },
  {
   "cell_type": "code",
   "execution_count": null,
   "outputs": [],
   "source": [],
   "metadata": {
    "collapsed": false,
    "pycharm": {
     "name": "#%%\n",
     "is_executing": true
    }
   }
  }
 ],
 "metadata": {
  "@webio": {
   "lastCommId": null,
   "lastKernelId": null
  },
  "kernelspec": {
   "display_name": "Python 3 (ipykernel)",
   "language": "python",
   "name": "python3"
  },
  "language_info": {
   "codemirror_mode": {
    "name": "ipython",
    "version": 3
   },
   "file_extension": ".py",
   "mimetype": "text/x-python",
   "name": "python",
   "nbconvert_exporter": "python",
   "pygments_lexer": "ipython3",
   "version": "3.9.7"
  },
  "toc": {
   "base_numbering": 1,
   "nav_menu": {},
   "number_sections": true,
   "sideBar": true,
   "skip_h1_title": false,
   "title_cell": "Table of Contents",
   "title_sidebar": "Contents",
   "toc_cell": false,
   "toc_position": {
    "height": "calc(100% - 180px)",
    "left": "10px",
    "top": "150px",
    "width": "384px"
   },
   "toc_section_display": true,
   "toc_window_display": true
  }
 },
 "nbformat": 4,
 "nbformat_minor": 5
}