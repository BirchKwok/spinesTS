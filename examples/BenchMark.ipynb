{
 "cells": [
  {
   "cell_type": "code",
   "execution_count": 1,
   "id": "4c68521f-cf76-415f-883f-09869cddf7d3",
   "metadata": {},
   "outputs": [],
   "source": [
    "import sys\n",
    "import warnings\n",
    "\n",
    "sys.path.append('..')\n",
    "warnings.filterwarnings('ignore')\n",
    "\n",
    "from tqdm.auto import tqdm\n",
    "import pandas as pd\n",
    "import numpy as np\n",
    "\n",
    "from spinesTS.preprocessing import split_series\n",
    "\n",
    "from spinesTS.data import *\n",
    "from spinesTS.nn import *\n",
    "from spinesTS.ml_model import *\n",
    "from spinesTS.metrics import *\n",
    "from spinesTS.pipeline import *\n",
    "from spinesTS.features_generator import *"
   ]
  },
  {
   "cell_type": "code",
   "execution_count": 2,
   "id": "fa6288bc-3250-456c-9ba8-33cd11ce03f1",
   "metadata": {},
   "outputs": [
    {
     "name": "stdout",
     "output_type": "stream",
     "text": [
      "+---+----------------------+----------------------------------------------+\n",
      "|   | ds name              | columns                                      |\n",
      "+---+----------------------+----------------------------------------------+\n",
      "| 0 | ETTh1                | date, HUFL, HULL, MUFL, MULL, LUFL, LULL, OT |\n",
      "| 1 | ETTh2                | date, HUFL, HULL, MUFL, MULL, LUFL, LULL, OT |\n",
      "| 2 | ETTm1                | date, HUFL, HULL, MUFL, MULL, LUFL, LULL, OT |\n",
      "| 3 | ETTm2                | date, HUFL, HULL, MUFL, MULL, LUFL, LULL, OT |\n",
      "| 4 | Electric_Production  | date, value                                  |\n",
      "| 5 | Messages_Sent        | date, ta, tb, tc                             |\n",
      "| 6 | Messages_Sent_Hour   | date, hour, ta, tb, tc                       |\n",
      "| 7 | Supermarket_Incoming | date, goods_cnt                              |\n",
      "| 8 | Web_Sales            | date, type_a, type_b, sales_cnt              |\n",
      "+---+----------------------+----------------------------------------------+\n"
     ]
    }
   ],
   "source": [
    "series_data = BuiltInSeriesData()"
   ]
  },
  {
   "cell_type": "code",
   "execution_count": 19,
   "id": "392268ff-9cc6-4cb8-8924-073d9d861f73",
   "metadata": {},
   "outputs": [],
   "source": [
    "in_features = 128\n",
    "out_features = 24\n",
    "train_size = 0.8\n",
    "date_col = 'date'\n",
    "device='cpu'\n",
    "learning_rate = 0.001\n",
    "dnn_epochs = 3000\n",
    "\n",
    "\n",
    "def dataloader(model_name, diff_n=1):\n",
    "    y_names = set(['OT', 'value', 'ta', 'goods_cnt', 'sales_cnt'])\n",
    "    for ds in series_data:\n",
    "        y_name = list(y_names & set(ds.columns))[0]\n",
    "        dataset_name = ds.dataset_name\n",
    "        ds = ds[[date_col, y_name]]\n",
    "\n",
    "        if not model_name.startswith('WideGBRT'):\n",
    "            x_train, x_test, y_train, y_test = \\\n",
    "                split_series(ds[y_name], ds[y_name], in_features, out_features, train_size=train_size)\n",
    "        else:\n",
    "            gbrt_processor = GBRTPreprocessing(in_features, out_features, y_name, date_col=date_col, differential_n=diff_n)\n",
    "            gbrt_processor.fit(ds)\n",
    "            x_train, x_test, y_train, y_test = gbrt_processor.transform(ds, mode='train')\n",
    "            \n",
    "        yield x_train, x_test, y_train, y_test, dataset_name\n",
    "\n",
    "def benchmark():\n",
    "    from catboost import CatBoostRegressor\n",
    "    \n",
    "    res = pd.DataFrame(columns=['algo', 'dataset', 'r2', 'mae', 'mape'])\n",
    "\n",
    "    models = {\n",
    "        'StackingRNN':StackingRNN(in_features, out_features, device=device, learning_rate=learning_rate),\n",
    "        'GAUNet':GAUNet(in_features, out_features, device=device, learning_rate=learning_rate),\n",
    "        'Time2VecNet':Time2VecNet(in_features, out_features, device=device, learning_rate=learning_rate),\n",
    "        'MultiStepRegressor':Pipeline([('MSR', MultiStepRegressor(CatBoostRegressor(use_best_model=True)))]),\n",
    "        'MultiOutputRegressor':Pipeline([('MOR', MultiOutputRegressor(CatBoostRegressor(use_best_model=True)))]),\n",
    "        'AddedFeatures_MSR':Pipeline([\n",
    "                ('fe', ContinuousFeatureGenerator()),\n",
    "                ('multi_reg', MultiStepRegressor(CatBoostRegressor(use_best_model=True)))\n",
    "            ]),\n",
    "        'AddedFeatures_MOR':Pipeline([\n",
    "                ('fe', ContinuousFeatureGenerator()),\n",
    "                ('multi_reg', MultiOutputRegressor(CatBoostRegressor(use_best_model=True)))\n",
    "            ]),\n",
    "        'WideGBRT-diff_n-0':WideGBRT(model=CatBoostRegressor(use_best_model=True)),\n",
    "        'WideGBRT-diff_n-1':WideGBRT(model=CatBoostRegressor(use_best_model=True))\n",
    "    }\n",
    "\n",
    "    iters = tqdm(list(models.items()), desc='modeling...')\n",
    "    for (model_name, model) in iters:\n",
    "        if model_name == 'WideGBRT-diff_n-0':\n",
    "            diff_n = 0\n",
    "        else:\n",
    "            diff_n = 1\n",
    "        for (x_train, x_test, y_train, y_test, dataset_name) in tqdm(dataloader(model_name, diff_n), desc=\"dataset fitting...\", total=len(series_data)):\n",
    "            if model_name in ('StackingRNN', 'GAUNet', 'Time2VecNet'):\n",
    "                model.fit(\n",
    "                    x_train, y_train, eval_set=(x_test, y_test), batch_size=32,\n",
    "                    min_delta=0, patience=100, epochs=dnn_epochs, verbose=False, lr_scheduler=None\n",
    "                )\n",
    "            elif model_name in (\n",
    "                'MultiStepRegressor', 'MultiOutputRegressor', \n",
    "                'AddedFeatures_MSR', 'AddedFeatures_MOR', 'WideGBRT'\n",
    "            ):\n",
    "                model.fit(x_train, y_train, eval_set=([x_test, y_test]), use_best_model=True, verbose=0)\n",
    "\n",
    "            y_pred = model.predict(x_test)\n",
    "            \n",
    "            _s = {'algo':model_name}\n",
    "            _s['dataset'] = dataset_name\n",
    "            _s['r2'] = r2_score(y_test.T, y_pred.T)\n",
    "            _s['mae'] = mean_absolute_error(y_test, y_pred)\n",
    "            _s['mape'] = mean_absolute_percentage_error(y_test, y_pred)\n",
    "\n",
    "            res = res.append(_s, ignore_index=True)\n",
    "        \n",
    "    return res"
   ]
  },
  {
   "cell_type": "code",
   "execution_count": null,
   "id": "55700ceb-2535-45aa-b487-49c7acf8b76c",
   "metadata": {},
   "outputs": [
    {
     "data": {
      "application/vnd.jupyter.widget-view+json": {
       "model_id": "2b864ecc3d374a84995275f8fd490cf8",
       "version_major": 2,
       "version_minor": 0
      },
      "text/plain": [
       "modeling...:   0%|          | 0/9 [00:00<?, ?it/s]"
      ]
     },
     "metadata": {},
     "output_type": "display_data"
    },
    {
     "data": {
      "application/vnd.jupyter.widget-view+json": {
       "model_id": "912fede9afc14b979855ae39313f919d",
       "version_major": 2,
       "version_minor": 0
      },
      "text/plain": [
       "dataset fitting...:   0%|          | 0/9 [00:00<?, ?it/s]"
      ]
     },
     "metadata": {},
     "output_type": "display_data"
    },
    {
     "data": {
      "application/vnd.jupyter.widget-view+json": {
       "model_id": "585ccf013758453991749387232e097d",
       "version_major": 2,
       "version_minor": 0
      },
      "text/plain": [
       "dataset fitting...:   0%|          | 0/9 [00:00<?, ?it/s]"
      ]
     },
     "metadata": {},
     "output_type": "display_data"
    }
   ],
   "source": [
    "benchmarks = benchmark()"
   ]
  },
  {
   "cell_type": "code",
   "execution_count": null,
   "id": "0a0be27d-cb6e-4516-9f59-61a0311f20ce",
   "metadata": {},
   "outputs": [],
   "source": [
    "pd.pivot_table(benchmarks, values='r2', index='algo', columns='dataset', aggfunc=lambda s: s)"
   ]
  },
  {
   "cell_type": "code",
   "execution_count": null,
   "id": "375150c4-2dc3-4159-ad56-a21810f0ba46",
   "metadata": {},
   "outputs": [],
   "source": [
    "pd.pivot_table(benchmarks, values='mae', index='algo', columns='dataset', aggfunc=lambda s: s)"
   ]
  },
  {
   "cell_type": "code",
   "execution_count": null,
   "id": "6e5aa2cb-86aa-4f9a-91b2-b6a952242ee0",
   "metadata": {},
   "outputs": [],
   "source": [
    "pd.pivot_table(benchmarks, values='mape', index='algo', columns='dataset', aggfunc=lambda s: s)"
   ]
  }
 ],
 "metadata": {
  "kernelspec": {
   "display_name": "Python 3 (ipykernel)",
   "language": "python",
   "name": "python3"
  },
  "language_info": {
   "codemirror_mode": {
    "name": "ipython",
    "version": 3
   },
   "file_extension": ".py",
   "mimetype": "text/x-python",
   "name": "python",
   "nbconvert_exporter": "python",
   "pygments_lexer": "ipython3",
   "version": "3.10.12"
  }
 },
 "nbformat": 4,
 "nbformat_minor": 5
}
