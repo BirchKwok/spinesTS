{
 "cells": [
  {
   "cell_type": "code",
   "execution_count": 1,
   "id": "e36f2037-2a25-4b89-9a03-087623b02034",
   "metadata": {},
   "outputs": [],
   "source": [
    "import sys\n",
    "sys.path.append('..')"
   ]
  },
  {
   "cell_type": "code",
   "execution_count": 2,
   "id": "9944ceaa",
   "metadata": {
    "ExecuteTime": {
     "end_time": "2023-07-13T04:04:09.052761Z",
     "start_time": "2023-07-13T04:04:07.774414Z"
    },
    "is_executing": true
   },
   "outputs": [],
   "source": [
    "from spinesTS.preprocessing import split_series\n",
    "from spinesTS.plotting import plot2d\n",
    "from sklearn.metrics import r2_score"
   ]
  },
  {
   "cell_type": "code",
   "execution_count": 3,
   "id": "93e2d2b0",
   "metadata": {
    "ExecuteTime": {
     "end_time": "2023-07-13T04:04:09.055402Z",
     "start_time": "2023-07-13T04:04:09.053904Z"
    }
   },
   "outputs": [],
   "source": [
    "from spinesTS.data import BuiltInSeriesData\n",
    "from spinesTS.nn import *\n",
    "from spinesTS.metrics import mean_absolute_error\n",
    "from spinesTS.metrics import mean_absolute_percentage_error\n",
    "from spinesTS.pipeline import Pipeline"
   ]
  },
  {
   "cell_type": "code",
   "execution_count": 4,
   "id": "83d6f00c",
   "metadata": {
    "ExecuteTime": {
     "end_time": "2023-07-13T04:04:09.130917Z",
     "start_time": "2023-07-13T04:04:09.056206Z"
    }
   },
   "outputs": [
    {
     "name": "stdout",
     "output_type": "stream",
     "text": [
      "+----+----------------------+----------------------------------------------------------------------+\n",
      "|    | ds name              | columns                                                              |\n",
      "+----+----------------------+----------------------------------------------------------------------+\n",
      "|  0 | AirPassengers        | Month, #Passengers                                                   |\n",
      "|  1 | ETTh1                | date, HUFL, HULL, MUFL, MULL, LUFL, LULL, OT                         |\n",
      "|  2 | ETTh2                | date, HUFL, HULL, MUFL, MULL, LUFL, LULL, OT                         |\n",
      "|  3 | ETTm1                | date, HUFL, HULL, MUFL, MULL, LUFL, LULL, OT                         |\n",
      "|  4 | ETTm2                | date, HUFL, HULL, MUFL, MULL, LUFL, LULL, OT                         |\n",
      "|  5 | Electric_Production  | date, value                                                          |\n",
      "|  6 | M3_monthly_FTS       | series_id, method_id, forecast, horizon, timestamp, origin_timestamp |\n",
      "|  7 | M3_monthly_TSTS      | series_id, category, value, timestamp                                |\n",
      "|  8 | M3_other_FTS         | series_id, method_id, forecast, horizon, timestamp, origin_timestamp |\n",
      "|  9 | M3_other_TSTS        | series_id, category, value, timestamp                                |\n",
      "| 10 | M3_quarterly_FTS     | series_id, method_id, forecast, horizon, timestamp, origin_timestamp |\n",
      "| 11 | M3_quarterly_TSTS    | series_id, category, value, timestamp                                |\n",
      "| 12 | M3_yearly_FTS        | series_id, method_id, forecast, horizon, timestamp, origin_timestamp |\n",
      "| 13 | M3_yearly_TSTS       | series_id, category, value, timestamp                                |\n",
      "| 14 | Messages_Sent        | date, ta, tb, tc                                                     |\n",
      "| 15 | Messages_Sent_Hour   | date, ta, tb, tc                                                     |\n",
      "| 16 | Supermarket_Incoming | date, goods_cnt                                                      |\n",
      "| 17 | Web_Sales            | date, type_a, type_b, sales_cnt                                      |\n",
      "+----+----------------------+----------------------------------------------------------------------+\n"
     ]
    }
   ],
   "source": [
    "series_data = BuiltInSeriesData()"
   ]
  },
  {
   "cell_type": "code",
   "execution_count": 5,
   "id": "5198550e-a2ab-4b69-ae53-d8ce755072c8",
   "metadata": {},
   "outputs": [],
   "source": [
    "cs = series_data['Electric_Production']\n",
    "\n",
    "x_train, x_test, y_train, y_test = split_series(cs['value'], cs['value'], 128, 24, train_size=0.9)"
   ]
  },
  {
   "cell_type": "code",
   "execution_count": 6,
   "id": "37876f88-77db-406e-b963-05f5945af1f1",
   "metadata": {},
   "outputs": [
    {
     "data": {
      "text/plain": [
       "((221, 128), (25, 128))"
      ]
     },
     "execution_count": 6,
     "metadata": {},
     "output_type": "execute_result"
    }
   ],
   "source": [
    "x_train.shape, x_test.shape"
   ]
  },
  {
   "cell_type": "markdown",
   "id": "f5b9af57-756f-4a46-8f68-abddaa110aa4",
   "metadata": {},
   "source": [
    "# StackingRNN"
   ]
  },
  {
   "cell_type": "code",
   "execution_count": null,
   "id": "aad2ff4c-4a30-4b55-a98d-427b70b566af",
   "metadata": {
    "scrolled": true
   },
   "outputs": [],
   "source": [
    "model = StackingRNN(128, 24, random_seed=42, loss_fn='mae', learning_rate=0.001, dropout=0.1, diff_n=1, \n",
    "                    stack_num=2, bidirectional=True, device='cpu')\n",
    "model.fit(x_train, y_train, eval_set=(x_test, y_test), batch_size=32,\n",
    "             min_delta=0, patience=100, epochs=3000, verbose=False, lr_scheduler=None)\n",
    "y_pred_inverse = model.predict(x_test)\n",
    "# y_pred_inverse = sc_y.inverse_transform(y_pred)\n",
    "print(f\"r2: {r2_score(y_test.T, y_pred_inverse.T)}\")\n",
    "print(f\"mae: {mean_absolute_error(y_test, y_pred_inverse)}\")\n",
    "print(f\"mape: {mean_absolute_percentage_error(y_test, y_pred_inverse)}\")\n",
    "a = plot2d(y_test, y_pred_inverse, eval_slices='[-1]', labels=['y_test', 'y_pred'], figsize=(20, 6))"
   ]
  },
  {
   "cell_type": "markdown",
   "id": "f0627056",
   "metadata": {},
   "source": [
    "# GAUNet"
   ]
  },
  {
   "cell_type": "code",
   "execution_count": null,
   "id": "1d43ae95-6fa2-4082-ab6b-38b8a561890f",
   "metadata": {
    "scrolled": true
   },
   "outputs": [],
   "source": [
    "model = GAUNet(128, 24, random_seed=42, flip_features=False, learning_rate=0.001, level=1, device='cpu')\n",
    "model.fit(x_train, y_train, eval_set=(x_test, y_test), batch_size=32,\n",
    "             min_delta=0, patience=100, epochs=3000, verbose=False, lr_scheduler=None)\n",
    "y_pred_inverse = model.predict(x_test)\n",
    "print(f\"r2: {r2_score(y_test.T, y_pred_inverse.T)}\")\n",
    "print(f\"mae: {mean_absolute_error(y_test, y_pred_inverse)}\")\n",
    "print(f\"mape: {mean_absolute_percentage_error(y_test, y_pred_inverse)}\")\n",
    "a = plot2d(y_test, y_pred_inverse, eval_slices='[-1]', labels=['y_test', 'y_pred'], figsize=(20, 6))"
   ]
  },
  {
   "cell_type": "markdown",
   "id": "7a763bec-3742-4eb5-b98c-bb20d1548823",
   "metadata": {},
   "source": [
    "# Time2VecNet"
   ]
  },
  {
   "cell_type": "code",
   "execution_count": null,
   "id": "3ed74eed-6e9f-4cb3-a3f1-e3a5529ed318",
   "metadata": {
    "scrolled": true,
    "tags": []
   },
   "outputs": [],
   "source": [
    "model = Time2VecNet(128, 24, random_seed=42, flip_features=False, learning_rate=0.001, device='cpu')\n",
    "model.fit(x_train, y_train, eval_set=(x_test, y_test), batch_size=32,\n",
    "             min_delta=0, patience=100, epochs=3000, verbose=False, lr_scheduler='ReduceLROnPlateau')\n",
    "\n",
    "y_pred_inverse = model.predict(x_test)\n",
    "\n",
    "print(f\"r2: {r2_score(y_test.T, y_pred_inverse.T)}\")\n",
    "print(f\"mae: {mean_absolute_error(y_test, y_pred_inverse)}\")\n",
    "print(f\"mape: {mean_absolute_percentage_error(y_test, y_pred_inverse)}\")\n",
    "a = plot2d(y_test, y_pred_inverse, eval_slices='[-1]', labels=['y_test', 'y_pred'], figsize=(20, 6))"
   ]
  },
  {
   "cell_type": "code",
   "execution_count": null,
   "id": "07b3c173",
   "metadata": {},
   "outputs": [],
   "source": []
  },
  {
   "cell_type": "code",
   "execution_count": null,
   "id": "78a311be",
   "metadata": {},
   "outputs": [],
   "source": []
  },
  {
   "cell_type": "code",
   "execution_count": null,
   "id": "b7ed5666",
   "metadata": {},
   "outputs": [],
   "source": []
  }
 ],
 "metadata": {
  "@webio": {
   "lastCommId": null,
   "lastKernelId": null
  },
  "hide_input": false,
  "kernelspec": {
   "display_name": "Python 3 (ipykernel)",
   "language": "python",
   "name": "python3"
  },
  "language_info": {
   "codemirror_mode": {
    "name": "ipython",
    "version": 3
   },
   "file_extension": ".py",
   "mimetype": "text/x-python",
   "name": "python",
   "nbconvert_exporter": "python",
   "pygments_lexer": "ipython3",
   "version": "3.10.12"
  },
  "toc": {
   "base_numbering": 1,
   "nav_menu": {},
   "number_sections": true,
   "sideBar": true,
   "skip_h1_title": false,
   "title_cell": "Table of Contents",
   "title_sidebar": "Contents",
   "toc_cell": false,
   "toc_position": {
    "height": "calc(100% - 180px)",
    "left": "10px",
    "top": "150px",
    "width": "384px"
   },
   "toc_section_display": true,
   "toc_window_display": true
  }
 },
 "nbformat": 4,
 "nbformat_minor": 5
}
