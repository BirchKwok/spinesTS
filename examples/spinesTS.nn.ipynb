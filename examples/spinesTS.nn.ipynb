{
 "cells": [
  {
   "cell_type": "code",
   "execution_count": 1,
   "id": "9944ceaa",
   "metadata": {
    "ExecuteTime": {
     "end_time": "2022-04-01T23:48:32.526170Z",
     "start_time": "2022-04-01T23:48:30.789074Z"
    }
   },
   "outputs": [],
   "source": [
    "from spinesTS.preprocessing import split_series\n",
    "from spinesTS.plotting import plot2d\n",
    "from sklearn.metrics import r2_score"
   ]
  },
  {
   "cell_type": "code",
   "execution_count": 2,
   "id": "93e2d2b0",
   "metadata": {
    "ExecuteTime": {
     "end_time": "2022-04-01T23:48:32.569976Z",
     "start_time": "2022-04-01T23:48:32.530772Z"
    }
   },
   "outputs": [],
   "source": [
    "from spinesTS.data import BuiltInSeriesData\n",
    "from spinesTS.nn import *\n",
    "from spinesTS.metrics import mean_absolute_error\n",
    "from spinesTS.metrics import mean_absolute_percentage_error"
   ]
  },
  {
   "cell_type": "code",
   "execution_count": 3,
   "id": "83d6f00c",
   "metadata": {
    "ExecuteTime": {
     "end_time": "2022-04-01T23:48:32.580751Z",
     "start_time": "2022-04-01T23:48:32.573388Z"
    }
   },
   "outputs": [
    {
     "name": "stdout",
     "output_type": "stream",
     "text": [
      "+----+----------------------+----------------------------------------------+\n",
      "|    | table's name         | table's columns                              |\n",
      "+----+----------------------+----------------------------------------------+\n",
      "|  0 | ETTh1                | date, HUFL, HULL, MUFL, MULL, LUFL, LULL, OT |\n",
      "|  1 | ETTh2                | date, HUFL, HULL, MUFL, MULL, LUFL, LULL, OT |\n",
      "|  2 | ETTm1                | date, HUFL, HULL, MUFL, MULL, LUFL, LULL, OT |\n",
      "|  3 | ETTm2                | date, HUFL, HULL, MUFL, MULL, LUFL, LULL, OT |\n",
      "|  4 | Electric_Production  | date, value                                  |\n",
      "|  5 | Messages_Sent        | date, ta, tb, tc                             |\n",
      "|  6 | Messages_Sent_Hour   | date, hour, ta, tb, tc                       |\n",
      "|  7 | Series_0             | date, timepoint, turnover_1, turnover_2      |\n",
      "|  8 | Series_1             | date, timepoint, turnover_1, turnover_2      |\n",
      "|  9 | Series_2             | date, timepoint, turnover_1, turnover_2      |\n",
      "| 10 | Series_3             | date, timepoint, turnover_1, turnover_2      |\n",
      "| 11 | Series_4             | date, timepoint, turnover_1, turnover_2      |\n",
      "| 12 | Series_5             | date, timepoint, turnover_1, turnover_2      |\n",
      "| 13 | Series_6             | date, timepoint, turnover_1, turnover_2      |\n",
      "| 14 | Series_7             | date, timepoint, turnover_1, turnover_2      |\n",
      "| 15 | Series_8             | date, timepoint, turnover_1, turnover_2      |\n",
      "| 16 | Series_9             | date, timepoint, turnover_1, turnover_2      |\n",
      "| 17 | Supermarket_Incoming | date, goods_cnt                              |\n",
      "| 18 | Web_Sales            | date, type_a, type_b, sales_cnt              |\n",
      "+----+----------------------+----------------------------------------------+\n"
     ]
    }
   ],
   "source": [
    "series_data = BuiltInSeriesData()"
   ]
  },
  {
   "cell_type": "code",
   "execution_count": 4,
   "outputs": [],
   "source": [
    "from spinesTS.preprocessing import MultiDimScaler"
   ],
   "metadata": {
    "collapsed": false,
    "pycharm": {
     "name": "#%%\n"
    }
   }
  },
  {
   "cell_type": "code",
   "execution_count": 5,
   "outputs": [],
   "source": [
    "cs = series_data[0]\n",
    "cs_data = cs.dataset\n",
    "from sklearn.preprocessing import MinMaxScaler\n",
    "mms = MultiDimScaler()\n",
    "data = cs_data.iloc[:, 1:].values\n",
    "\n",
    "x_train, x_test, y_train, y_test = split_series(data, cs_data['OT'], 128, 24, train_size=0.9)\n",
    "\n",
    "x_train = mms.fit_transform(x_train, MinMaxScaler)\n",
    "x_test = mms.transform(x_test)"
   ],
   "metadata": {
    "collapsed": false,
    "pycharm": {
     "name": "#%%\n"
    }
   }
  },
  {
   "cell_type": "code",
   "execution_count": 6,
   "outputs": [
    {
     "data": {
      "text/plain": "(torch.Size([15542, 128, 7]), torch.Size([1727, 128, 7]))"
     },
     "execution_count": 6,
     "metadata": {},
     "output_type": "execute_result"
    }
   ],
   "source": [
    "x_train.shape, x_test.shape"
   ],
   "metadata": {
    "collapsed": false,
    "pycharm": {
     "name": "#%%\n"
    }
   }
  },
  {
   "cell_type": "markdown",
   "id": "f0627056",
   "metadata": {},
   "source": [
    "## RecurrentWeightedDenseNet"
   ]
  },
  {
   "cell_type": "markdown",
   "id": "937c7b4f",
   "metadata": {},
   "source": [
    "### one res_dense_blocks"
   ]
  },
  {
   "cell_type": "code",
   "execution_count": null,
   "id": "ee207b31",
   "metadata": {
    "ExecuteTime": {
     "end_time": "2022-04-01T23:55:38.599589Z",
     "start_time": "2022-04-01T23:48:33.467518Z"
    },
    "scrolled": false,
    "pycharm": {
     "name": "#%%\n",
     "is_executing": true
    }
   },
   "outputs": [
    {
     "name": "stdout",
     "output_type": "stream",
     "text": [
      "Epoch 1/1000 \n",
      "486/486 - p0 - loss: 3.3097 - mae: 3.4671 - val_loss: 3.7624 - val_mae: 4.2531 - 5.20s/epoch - 0.011s/step\n",
      "Epoch 2/1000 \n",
      "486/486 - p0 - loss: 3.5813 - mae: 3.3911 - val_loss: 3.5164 - val_mae: 3.9982 - 4.82s/epoch - 0.010s/step\n"
     ]
    }
   ],
   "source": [
    "wdr = GAUNet((128, 7), 24, random_seed=42, flip_features=False, learning_rate=0.01, level=5)\n",
    "wdr.fit(x_train, y_train, eval_set=(x_test[:-2], y_test[:-2]), batch_size=32,\n",
    "             min_delta=0, patience=100, epochs=1000, verbose=True, lr_scheduler='ReduceLROnPlateau')\n",
    "y_pred_cs = wdr.predict(x_test[-2:])\n",
    "print(f\"r2: {r2_score(y_test[-2:].T, y_pred_cs.T)}\")\n",
    "print(f\"mae: {mean_absolute_error(y_test[-2:], y_pred_cs)}\")\n",
    "print(f\"mape: {mean_absolute_percentage_error(y_test[-2:], y_pred_cs)}\")\n",
    "a = plot2d(y_test[-2:], y_pred_cs, eval_slices='[-1]', labels=['y_test', 'y_pred'], figsize=(20, 6))"
   ]
  },
  {
   "cell_type": "code",
   "execution_count": null,
   "outputs": [],
   "source": [
    "y_pred_cs = wdr.predict(x_test)\n",
    "print(f\"r2: {r2_score(y_test.T, y_pred_cs.T)}\")\n",
    "print(f\"mae: {mean_absolute_error(y_test, y_pred_cs)}\")\n",
    "print(f\"mape: {mean_absolute_percentage_error(y_test, y_pred_cs)}\")\n",
    "a = plot2d(y_test, y_pred_cs, eval_slices='[:30]', labels=['y_test', 'y_pred'], figsize=(20, 10))"
   ],
   "metadata": {
    "collapsed": false,
    "pycharm": {
     "name": "#%%\n",
     "is_executing": true
    }
   }
  },
  {
   "cell_type": "code",
   "execution_count": null,
   "outputs": [],
   "source": [
    "# GAU WITHOUT FLIP\n",
    "# r2: -2.461928251531084\n",
    "# mae: 0.7824241320292159\n",
    "# mape: 0.08264914036325263\n",
    "\n",
    "# FLIP\n",
    "# r2: -3.2216385445817077\n",
    "# mae: 0.8676682909329737\n",
    "# mape: 0.09149143596419052\n",
    "\n",
    "# GAU multi variable, without flip\n",
    "# r2: 0.2748685062570435\n",
    "# mae: 0.3432978590329491\n",
    "# mape: 0.035340427385704455\n",
    "\n",
    "# r2: 0.32585591409789555\n",
    "# mae: 0.3419693509737651\n",
    "# mape: 0.035039248061682106\n",
    "\n",
    "# LEVEL 5\n",
    "# r2: 0.07409507520026454\n",
    "# mae: 0.4331215620040898\n",
    "# mape: 0.04468689204933249\n",
    "\n",
    "# GAU multi variable, flip\n",
    "# r2: -0.21693335422066395\n",
    "# mae: 0.44913035631179854\n",
    "# mape: 0.04723922629564383\n",
    "\n",
    "\n",
    "# Time2Vec without flip\n",
    "# r2: -3.110017119085237\n",
    "# mae: 0.8972663482030238\n",
    "# mape: 0.09488035043723038\n",
    "\n",
    "# Time2Vec, flip\n",
    "# r2: -3.793590596311873\n",
    "# mae: 1.0186231931050622\n",
    "# mape: 0.10717737492764423\n",
    "\n",
    "# Time2Vec multi variable, without flip\n",
    "# r2: -0.13839113655174196\n",
    "# mae: 0.43564714988072756\n",
    "# mape: 0.04561015992232642\n",
    "\n",
    "# Time2Vec multi variable, flip\n",
    "# r2: 0.06966361843654473\n",
    "# mae: 0.3852565685908001\n",
    "# mape: 0.039687981777916825"
   ],
   "metadata": {
    "collapsed": false,
    "pycharm": {
     "name": "#%%\n",
     "is_executing": true
    }
   }
  },
  {
   "cell_type": "code",
   "execution_count": null,
   "outputs": [],
   "source": [],
   "metadata": {
    "collapsed": false,
    "pycharm": {
     "name": "#%%\n",
     "is_executing": true
    }
   }
  },
  {
   "cell_type": "code",
   "execution_count": null,
   "outputs": [],
   "source": [],
   "metadata": {
    "collapsed": false,
    "pycharm": {
     "name": "#%%\n",
     "is_executing": true
    }
   }
  },
  {
   "cell_type": "code",
   "execution_count": null,
   "outputs": [],
   "source": [],
   "metadata": {
    "collapsed": false,
    "pycharm": {
     "name": "#%%\n",
     "is_executing": true
    }
   }
  },
  {
   "cell_type": "code",
   "execution_count": null,
   "outputs": [],
   "source": [],
   "metadata": {
    "collapsed": false,
    "pycharm": {
     "name": "#%%\n",
     "is_executing": true
    }
   }
  },
  {
   "cell_type": "code",
   "execution_count": null,
   "outputs": [],
   "source": [],
   "metadata": {
    "collapsed": false,
    "pycharm": {
     "name": "#%%\n",
     "is_executing": true
    }
   }
  },
  {
   "cell_type": "code",
   "execution_count": null,
   "outputs": [],
   "source": [],
   "metadata": {
    "collapsed": false,
    "pycharm": {
     "name": "#%%\n",
     "is_executing": true
    }
   }
  },
  {
   "cell_type": "code",
   "execution_count": null,
   "outputs": [],
   "source": [],
   "metadata": {
    "collapsed": false,
    "pycharm": {
     "name": "#%%\n",
     "is_executing": true
    }
   }
  }
 ],
 "metadata": {
  "@webio": {
   "lastCommId": null,
   "lastKernelId": null
  },
  "kernelspec": {
   "display_name": "Python 3 (ipykernel)",
   "language": "python",
   "name": "python3"
  },
  "language_info": {
   "codemirror_mode": {
    "name": "ipython",
    "version": 3
   },
   "file_extension": ".py",
   "mimetype": "text/x-python",
   "name": "python",
   "nbconvert_exporter": "python",
   "pygments_lexer": "ipython3",
   "version": "3.9.7"
  },
  "toc": {
   "base_numbering": 1,
   "nav_menu": {},
   "number_sections": true,
   "sideBar": true,
   "skip_h1_title": false,
   "title_cell": "Table of Contents",
   "title_sidebar": "Contents",
   "toc_cell": false,
   "toc_position": {
    "height": "calc(100% - 180px)",
    "left": "10px",
    "top": "150px",
    "width": "384px"
   },
   "toc_section_display": true,
   "toc_window_display": true
  }
 },
 "nbformat": 4,
 "nbformat_minor": 5
}