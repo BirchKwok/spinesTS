{
 "cells": [
  {
   "cell_type": "code",
   "execution_count": 1,
   "id": "eb28602f",
   "metadata": {
    "ExecuteTime": {
     "end_time": "2022-03-21T14:34:57.790093Z",
     "start_time": "2022-03-21T14:34:57.785074Z"
    }
   },
   "outputs": [],
   "source": [
    "# !pip install spinesTS\n",
    "import sys\n",
    "sys.path.append('..')"
   ]
  },
  {
   "cell_type": "markdown",
   "id": "e1c85104",
   "metadata": {},
   "source": [
    "# MLPTorchModel"
   ]
  },
  {
   "cell_type": "code",
   "execution_count": 2,
   "id": "9944ceaa",
   "metadata": {
    "ExecuteTime": {
     "end_time": "2022-03-21T14:34:59.035960Z",
     "start_time": "2022-03-21T14:34:57.791121Z"
    }
   },
   "outputs": [],
   "source": [
    "from spinesTS.preprocessing import split_series\n",
    "from sklearn.preprocessing import StandardScaler\n",
    "from spinesTS.plotting import plot2d\n",
    "from sklearn.metrics import r2_score"
   ]
  },
  {
   "cell_type": "code",
   "execution_count": 3,
   "id": "5a88d246",
   "metadata": {
    "ExecuteTime": {
     "end_time": "2022-03-21T14:34:59.039147Z",
     "start_time": "2022-03-21T14:34:59.037063Z"
    }
   },
   "outputs": [],
   "source": [
    "from spinesTS.pipeline import Pipeline"
   ]
  },
  {
   "cell_type": "code",
   "execution_count": 4,
   "id": "93e2d2b0",
   "metadata": {
    "ExecuteTime": {
     "end_time": "2022-03-21T14:34:59.071265Z",
     "start_time": "2022-03-21T14:34:59.040508Z"
    }
   },
   "outputs": [],
   "source": [
    "from spinesTS.data import BuiltInSeriesData\n",
    "from spinesTS.nn import RecurrentWeightedDenseNet\n",
    "from spinesTS.metrics import mean_absolute_error\n",
    "from spinesTS.metrics import mean_absolute_percentage_error"
   ]
  },
  {
   "cell_type": "code",
   "execution_count": 5,
   "id": "83d6f00c",
   "metadata": {
    "ExecuteTime": {
     "end_time": "2022-03-21T14:34:59.077385Z",
     "start_time": "2022-03-21T14:34:59.072181Z"
    }
   },
   "outputs": [
    {
     "name": "stdout",
     "output_type": "stream",
     "text": [
      "Existing CSV file list: \n",
      " \r",
      ">> >> >> >> >> >> >> >> >> >> \n",
      " \r",
      "    Electric_Production\n",
      "\r",
      "    Messages_Sent\n",
      "\r",
      "    Messages_Sent_Hour\n",
      "\r",
      "    Series_0\n",
      "\r",
      "    Series_1\n",
      "\r",
      "    Series_2\n",
      "\r",
      "    Series_3\n",
      "\r",
      "    Series_4\n",
      "\r",
      "    Series_5\n",
      "\r",
      "    Series_6\n",
      "\r",
      "    Series_7\n",
      "\r",
      "    Series_8\n",
      "\r",
      "    Series_9\n",
      "\r",
      "    Supermarket_Incoming\n",
      "\r",
      "    Web_Sales\n",
      "\r",
      "    __init__\n",
      " \r",
      "<< << << << << << << << << << \n"
     ]
    }
   ],
   "source": [
    "series_data = BuiltInSeriesData()"
   ]
  },
  {
   "cell_type": "code",
   "execution_count": 6,
   "id": "b18be0d6",
   "metadata": {
    "ExecuteTime": {
     "end_time": "2022-03-21T14:34:59.892336Z",
     "start_time": "2022-03-21T14:34:59.078535Z"
    }
   },
   "outputs": [],
   "source": [
    "cs = series_data['Series_0']\n",
    "cs_data = cs.dataset['turnover_1']\n",
    "x_train_cs, x_test_cs, y_train_cs, y_test_cs = split_series(cs_data, cs_data, 420, 420, train_size=0.8)"
   ]
  },
  {
   "cell_type": "markdown",
   "id": "f0627056",
   "metadata": {},
   "source": [
    "## RecurrentWeightedDenseNet"
   ]
  },
  {
   "cell_type": "markdown",
   "id": "937c7b4f",
   "metadata": {},
   "source": [
    "### one res_dense_blocks"
   ]
  },
  {
   "cell_type": "code",
   "execution_count": null,
   "id": "e000e0bd",
   "metadata": {
    "ExecuteTime": {
     "start_time": "2022-03-21T14:34:57.789Z"
    },
    "scrolled": false
   },
   "outputs": [
    {
     "name": "stdout",
     "output_type": "stream",
     "text": [
      "Epoch 1/1000 \n",
      "282/282 - p0 - loss: 105.8016 - mae: 72.8612 - val_loss: 80.9079 - val_mae: 81.4063 - 4.09s/epoch - 0.015s/step\n",
      "Epoch 2/1000 \n",
      "282/282 - p1 - loss: 92.6410 - mae: 44.7524 - val_loss: 90.3157 - val_mae: 90.8146 - 3.94s/epoch - 0.014s/step\n",
      "Epoch 3/1000 \n",
      "282/282 - p2 - loss: 94.4158 - mae: 44.9451 - val_loss: 86.1368 - val_mae: 86.6357 - 3.93s/epoch - 0.014s/step\n",
      "Epoch 4/1000 \n",
      "282/282 - p3 - loss: 91.3121 - mae: 44.1818 - val_loss: 91.1951 - val_mae: 91.6941 - 3.88s/epoch - 0.014s/step\n",
      "Epoch 5/1000 \n",
      "282/282 - p4 - loss: 88.9531 - mae: 43.7627 - val_loss: 90.2488 - val_mae: 90.7478 - 3.84s/epoch - 0.014s/step\n",
      "Epoch 6/1000 \n",
      "282/282 - p5 - loss: 88.0801 - mae: 42.9186 - val_loss: 91.1720 - val_mae: 91.6710 - 3.79s/epoch - 0.013s/step\n",
      "Epoch 7/1000 \n",
      "282/282 - p6 - loss: 86.6746 - mae: 42.4971 - val_loss: 89.7494 - val_mae: 90.2483 - 3.81s/epoch - 0.014s/step\n",
      "Epoch 8/1000 \n",
      "282/282 - p7 - loss: 85.3460 - mae: 41.8927 - val_loss: 89.3396 - val_mae: 89.8385 - 3.85s/epoch - 0.014s/step\n",
      "Epoch 9/1000 \n",
      "282/282 - p8 - loss: 83.9525 - mae: 40.9627 - val_loss: 86.5678 - val_mae: 87.0666 - 3.90s/epoch - 0.014s/step\n",
      "Epoch 10/1000 \n",
      "282/282 - p9 - loss: 83.0742 - mae: 40.1217 - val_loss: 84.8484 - val_mae: 85.3472 - 4.15s/epoch - 0.015s/step\n",
      "Epoch 11/1000 \n",
      "282/282 - p10 - loss: 81.6219 - mae: 39.1884 - val_loss: 83.1799 - val_mae: 83.6786 - 3.84s/epoch - 0.014s/step\n",
      "Epoch 12/1000 \n",
      "282/282 - p11 - loss: 80.3288 - mae: 38.4612 - val_loss: 83.3097 - val_mae: 83.8085 - 3.98s/epoch - 0.014s/step\n",
      "Epoch 13/1000 \n",
      "282/282 - p12 - loss: 78.9696 - mae: 37.3207 - val_loss: 82.0909 - val_mae: 82.5897 - 4.01s/epoch - 0.014s/step\n",
      "Epoch 14/1000 \n",
      "282/282 - p13 - loss: 77.7788 - mae: 36.0616 - val_loss: 81.7370 - val_mae: 82.2358 - 3.92s/epoch - 0.014s/step\n",
      "Epoch 15/1000 \n",
      "282/282 - p14 - loss: 76.6317 - mae: 34.7779 - val_loss: 81.5282 - val_mae: 82.0270 - 3.95s/epoch - 0.014s/step\n",
      "Epoch 16/1000 \n",
      "282/282 - p15 - loss: 75.9210 - mae: 33.6611 - val_loss: 82.3631 - val_mae: 82.8620 - 3.95s/epoch - 0.014s/step\n",
      "Epoch 17/1000 \n",
      "282/282 - p16 - loss: 74.9879 - mae: 32.6864 - val_loss: 81.7452 - val_mae: 82.2441 - 3.90s/epoch - 0.014s/step\n",
      "Epoch 18/1000 \n",
      "282/282 - p0 - loss: 74.0767 - mae: 31.7533 - val_loss: 80.3873 - val_mae: 80.8862 - 3.86s/epoch - 0.014s/step\n",
      "Epoch 19/1000 \n",
      "282/282 - p0 - loss: 73.1401 - mae: 31.1412 - val_loss: 79.5364 - val_mae: 80.0353 - 3.88s/epoch - 0.014s/step\n",
      "Epoch 20/1000 \n",
      "282/282 - p1 - loss: 72.5870 - mae: 30.5119 - val_loss: 79.7075 - val_mae: 80.2064 - 3.96s/epoch - 0.014s/step\n",
      "Epoch 21/1000 \n",
      "282/282 - p2 - loss: 72.1084 - mae: 30.0826 - val_loss: 82.1976 - val_mae: 82.6965 - 4.12s/epoch - 0.015s/step\n",
      "Epoch 22/1000 \n",
      "282/282 - p3 - loss: 71.3975 - mae: 29.5968 - val_loss: 84.5045 - val_mae: 85.0035 - 4.21s/epoch - 0.015s/step\n",
      "Epoch 23/1000 \n",
      "282/282 - p0 - loss: 70.5334 - mae: 29.2894 - val_loss: 79.0939 - val_mae: 79.5927 - 4.29s/epoch - 0.015s/step\n",
      "Epoch 24/1000 \n",
      "282/282 - p0 - loss: 69.7914 - mae: 28.8607 - val_loss: 77.3530 - val_mae: 77.8519 - 4.06s/epoch - 0.014s/step\n",
      "Epoch 25/1000 \n",
      "282/282 - p1 - loss: 69.2677 - mae: 28.5102 - val_loss: 78.1202 - val_mae: 78.6191 - 4.11s/epoch - 0.015s/step\n",
      "Epoch 26/1000 \n",
      "282/282 - p2 - loss: 68.4488 - mae: 28.2470 - val_loss: 79.8242 - val_mae: 80.3232 - 3.91s/epoch - 0.014s/step\n",
      "Epoch 27/1000 \n",
      "282/282 - p3 - loss: 67.9703 - mae: 27.9834 - val_loss: 80.4390 - val_mae: 80.9379 - 3.98s/epoch - 0.014s/step\n",
      "Epoch 28/1000 \n",
      "282/282 - p4 - loss: 67.3084 - mae: 27.8795 - val_loss: 81.4924 - val_mae: 81.9914 - 3.91s/epoch - 0.014s/step\n",
      "Epoch 29/1000 \n",
      "282/282 - p5 - loss: 66.4403 - mae: 27.5961 - val_loss: 78.9030 - val_mae: 79.4019 - 3.94s/epoch - 0.014s/step\n",
      "Epoch 30/1000 \n",
      "282/282 - p0 - loss: 65.7048 - mae: 27.2811 - val_loss: 76.3112 - val_mae: 76.8100 - 3.79s/epoch - 0.013s/step\n",
      "Epoch 31/1000 \n",
      "282/282 - p0 - loss: 65.0327 - mae: 27.1224 - val_loss: 75.7470 - val_mae: 76.2459 - 3.83s/epoch - 0.014s/step\n",
      "Epoch 32/1000 \n",
      "282/282 - p1 - loss: 64.5227 - mae: 27.0196 - val_loss: 77.1288 - val_mae: 77.6277 - 3.93s/epoch - 0.014s/step\n",
      "Epoch 33/1000 \n",
      "282/282 - p2 - loss: 64.7392 - mae: 26.7037 - val_loss: 81.6716 - val_mae: 82.1707 - 4.07s/epoch - 0.014s/step\n",
      "Epoch 34/1000 \n",
      "282/282 - p3 - loss: 63.4128 - mae: 26.4531 - val_loss: 79.5654 - val_mae: 80.0644 - 3.94s/epoch - 0.014s/step\n",
      "Epoch 35/1000 \n",
      "282/282 - p0 - loss: 63.2353 - mae: 26.3319 - val_loss: 75.1817 - val_mae: 75.6805 - 3.91s/epoch - 0.014s/step\n",
      "Epoch 36/1000 \n",
      "282/282 - p1 - loss: 62.7971 - mae: 26.1277 - val_loss: 77.8097 - val_mae: 78.3087 - 3.92s/epoch - 0.014s/step\n",
      "Epoch 37/1000 \n",
      "282/282 - p2 - loss: 61.8014 - mae: 25.7646 - val_loss: 78.4183 - val_mae: 78.9173 - 3.97s/epoch - 0.014s/step\n",
      "Epoch 38/1000 \n",
      "282/282 - p0 - loss: 60.7549 - mae: 25.6384 - val_loss: 74.4187 - val_mae: 74.9176 - 3.91s/epoch - 0.014s/step\n",
      "Epoch 39/1000 \n",
      "282/282 - p1 - loss: 60.5085 - mae: 25.5036 - val_loss: 76.1577 - val_mae: 76.6566 - 3.87s/epoch - 0.014s/step\n",
      "Epoch 40/1000 \n",
      "282/282 - p2 - loss: 60.0169 - mae: 25.2123 - val_loss: 79.7559 - val_mae: 80.2549 - 3.97s/epoch - 0.014s/step\n",
      "Epoch 41/1000 \n",
      "282/282 - p3 - loss: 58.8093 - mae: 25.0251 - val_loss: 74.9058 - val_mae: 75.4046 - 4.19s/epoch - 0.015s/step\n",
      "Epoch 42/1000 \n",
      "282/282 - p4 - loss: 58.7932 - mae: 24.9142 - val_loss: 74.6073 - val_mae: 75.1062 - 4.04s/epoch - 0.014s/step\n",
      "Epoch 43/1000 \n",
      "282/282 - p5 - loss: 58.0724 - mae: 24.7674 - val_loss: 78.7500 - val_mae: 79.2490 - 4.05s/epoch - 0.014s/step\n",
      "Epoch 44/1000 \n",
      "282/282 - p0 - loss: 56.7909 - mae: 24.5328 - val_loss: 74.3142 - val_mae: 74.8130 - 3.96s/epoch - 0.014s/step\n",
      "Epoch 45/1000 \n",
      "282/282 - p0 - loss: 56.7968 - mae: 24.5971 - val_loss: 74.0437 - val_mae: 74.5426 - 3.80s/epoch - 0.013s/step\n",
      "Epoch 46/1000 \n",
      "282/282 - p1 - loss: 56.5730 - mae: 24.3768 - val_loss: 80.2096 - val_mae: 80.7086 - 3.82s/epoch - 0.014s/step\n",
      "Epoch 47/1000 \n",
      "282/282 - p2 - loss: 55.4452 - mae: 24.0866 - val_loss: 75.2256 - val_mae: 75.7244 - 3.93s/epoch - 0.014s/step\n",
      "Epoch 48/1000 \n",
      "282/282 - p0 - loss: 55.2308 - mae: 23.9581 - val_loss: 70.8938 - val_mae: 71.3925 - 3.87s/epoch - 0.014s/step\n",
      "Epoch 49/1000 \n",
      "282/282 - p1 - loss: 54.7842 - mae: 23.8333 - val_loss: 77.5138 - val_mae: 78.0128 - 3.87s/epoch - 0.014s/step\n",
      "Epoch 50/1000 \n",
      "282/282 - p2 - loss: 53.7367 - mae: 23.6126 - val_loss: 77.1337 - val_mae: 77.6326 - 3.88s/epoch - 0.014s/step\n",
      "Epoch 51/1000 \n",
      "282/282 - p0 - loss: 53.1810 - mae: 23.3758 - val_loss: 70.4231 - val_mae: 70.9218 - 3.96s/epoch - 0.014s/step\n",
      "Epoch 52/1000 \n",
      "282/282 - p1 - loss: 53.0341 - mae: 23.2295 - val_loss: 75.2998 - val_mae: 75.7986 - 3.85s/epoch - 0.014s/step\n"
     ]
    }
   ],
   "source": [
    "multi_reg = RecurrentWeightedDenseNet(420, 420, random_seed=666, res_dense_blocks=1, learning_rate=0.001)\n",
    "multi_reg.fit(x_train_cs, y_train_cs, eval_set=(x_test_cs[:-2], y_test_cs[:-2]), batch_size=32,\n",
    "             min_delta=0, patience=100, epochs=1000, verbose=True)\n",
    "y_pred_cs = multi_reg.predict(x_test_cs[-2:])\n",
    "print(f\"r2: {r2_score(y_test_cs[-2:].T, y_pred_cs.T)}\")\n",
    "print(f\"mae: {mean_absolute_error(y_test_cs[-2:], y_pred_cs)}\")\n",
    "print(f\"mape: {mean_absolute_percentage_error(y_test_cs[-2:], y_pred_cs)}\")\n",
    "a = plot2d(y_test_cs[-2:], y_pred_cs, eval_slices='[-1]', labels=['y_test', 'y_pred'], figsize=(20, 6))"
   ]
  },
  {
   "cell_type": "markdown",
   "id": "0ce8f117",
   "metadata": {},
   "source": [
    "### four res_dense_blocks"
   ]
  },
  {
   "cell_type": "code",
   "execution_count": null,
   "id": "8701b5f5",
   "metadata": {
    "ExecuteTime": {
     "start_time": "2022-03-21T14:34:57.790Z"
    }
   },
   "outputs": [],
   "source": [
    "multi_reg = RecurrentWeightedDenseNet(420, 420, random_seed=666, res_dense_blocks=4, learning_rate=0.001)\n",
    "multi_reg.fit(x_train_cs, y_train_cs, eval_set=(x_test_cs[:-2], y_test_cs[:-2]), batch_size=32,\n",
    "             min_delta=0, patience=100, epochs=1000, verbose=False)\n",
    "y_pred_cs = multi_reg.predict(x_test_cs[-2:])\n",
    "print(f\"r2: {r2_score(y_test_cs[-2:].T, y_pred_cs.T)}\")\n",
    "print(f\"mae: {mean_absolute_error(y_test_cs[-2:], y_pred_cs)}\")\n",
    "print(f\"mape: {mean_absolute_percentage_error(y_test_cs[-2:], y_pred_cs)}\")\n",
    "a = plot2d(y_test_cs[-2:], y_pred_cs, eval_slices='[-1]', labels=['y_test', 'y_pred'], figsize=(20, 6))"
   ]
  },
  {
   "cell_type": "markdown",
   "id": "de89a849",
   "metadata": {},
   "source": [
    "### one res_dense_blocks with standard scaler"
   ]
  },
  {
   "cell_type": "code",
   "execution_count": null,
   "id": "339b7cac",
   "metadata": {
    "ExecuteTime": {
     "start_time": "2022-03-21T14:34:57.790Z"
    },
    "tags": []
   },
   "outputs": [],
   "source": [
    "pp = Pipeline([\n",
    "    ('sc', StandardScaler()),\n",
    "    ('model', RecurrentWeightedDenseNet(420, 420, random_seed=666, res_dense_blocks=1, learning_rate=0.001))\n",
    "])\n",
    "\n",
    "pp.fit(x_train_cs, y_train_cs, eval_set=(x_test_cs[:-2], y_test_cs[:-2]), batch_size=32,\n",
    "             min_delta=0, patience=100, epochs=1000, verbose=False)\n",
    "y_pred_cs = pp.predict(x_test_cs[-2:])\n",
    "print(f\"r2: {r2_score(y_test_cs[-2:].T, y_pred_cs.T)}\")\n",
    "print(f\"mae: {mean_absolute_error(y_test_cs[-2:], y_pred_cs)}\")\n",
    "print(f\"mape: {mean_absolute_percentage_error(y_test_cs[-2:], y_pred_cs)}\")\n",
    "a = plot2d(y_test_cs[-2:], y_pred_cs, eval_slices='[-1]', labels=['y_test', 'y_pred'], figsize=(20, 6))"
   ]
  },
  {
   "cell_type": "code",
   "execution_count": null,
   "id": "39140791",
   "metadata": {
    "ExecuteTime": {
     "start_time": "2022-03-21T14:34:57.791Z"
    }
   },
   "outputs": [],
   "source": [
    "y_pred_cs = pp.predict(x_test_cs[:-2])\n",
    "print(f\"r2: {r2_score(y_test_cs[:-2].T, y_pred_cs.T)}\")\n",
    "print(f\"mae: {mean_absolute_error(y_test_cs[:-2], y_pred_cs)}\")\n",
    "print(f\"mape: {mean_absolute_percentage_error(y_test_cs[:-2], y_pred_cs)}\")\n",
    "a = plot2d(y_test_cs[-2:], y_pred_cs, eval_slices='[-1]', labels=['y_test', 'y_pred'], figsize=(20, 6))"
   ]
  },
  {
   "cell_type": "code",
   "execution_count": null,
   "id": "0c57a18e",
   "metadata": {},
   "outputs": [],
   "source": []
  },
  {
   "cell_type": "code",
   "execution_count": null,
   "id": "e76de688",
   "metadata": {},
   "outputs": [],
   "source": []
  }
 ],
 "metadata": {
  "@webio": {
   "lastCommId": null,
   "lastKernelId": null
  },
  "kernelspec": {
   "display_name": "Python 3 (ipykernel)",
   "language": "python",
   "name": "python3"
  },
  "language_info": {
   "codemirror_mode": {
    "name": "ipython",
    "version": 3
   },
   "file_extension": ".py",
   "mimetype": "text/x-python",
   "name": "python",
   "nbconvert_exporter": "python",
   "pygments_lexer": "ipython3",
   "version": "3.9.7"
  },
  "toc": {
   "base_numbering": 1,
   "nav_menu": {},
   "number_sections": true,
   "sideBar": true,
   "skip_h1_title": false,
   "title_cell": "Table of Contents",
   "title_sidebar": "Contents",
   "toc_cell": false,
   "toc_position": {
    "height": "calc(100% - 180px)",
    "left": "10px",
    "top": "150px",
    "width": "384px"
   },
   "toc_section_display": true,
   "toc_window_display": true
  }
 },
 "nbformat": 4,
 "nbformat_minor": 5
}
